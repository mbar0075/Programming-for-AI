{
 "cells": [
  {
   "cell_type": "code",
   "execution_count": 1,
   "id": "80ab0da9",
   "metadata": {},
   "outputs": [],
   "source": [
    "#Imports\n",
    "import numpy as np\n",
    "import numpy.linalg as la\n",
    "from sympy import *"
   ]
  },
  {
   "cell_type": "code",
   "execution_count": 2,
   "id": "56118bdf",
   "metadata": {},
   "outputs": [
    {
     "data": {
      "text/latex": [
       "$\\displaystyle \\left[\\begin{matrix}0.0 & 0.0 & 0.333333333333333 & 0.0 & 0.0\\\\0.333333333333333 & 0.0 & 0.333333333333333 & 0.5 & 0.0\\\\0.0 & 0.0 & 0.0 & 0.5 & 1.0\\\\0.333333333333333 & 0.0 & 0.333333333333333 & 0.0 & 0.0\\\\0.333333333333333 & 1.0 & 0.0 & 0.0 & 0.0\\end{matrix}\\right]$"
      ],
      "text/plain": [
       "Matrix([\n",
       "[              0.0, 0.0, 0.333333333333333, 0.0, 0.0],\n",
       "[0.333333333333333, 0.0, 0.333333333333333, 0.5, 0.0],\n",
       "[              0.0, 0.0,               0.0, 0.5, 1.0],\n",
       "[0.333333333333333, 0.0, 0.333333333333333, 0.0, 0.0],\n",
       "[0.333333333333333, 1.0,               0.0, 0.0, 0.0]])"
      ]
     },
     "execution_count": 2,
     "metadata": {},
     "output_type": "execute_result"
    }
   ],
   "source": [
    "#a)Creating Link matrix l\n",
    "L = np.array([[0, 0, 1/3, 0, 0],\n",
    "              [1/3, 0, 1/3, 1/2, 0],\n",
    "              [0, 0, 0, 1/2, 1],\n",
    "              [1/3, 0, 1/3, 0, 0],\n",
    "              [1/3, 1, 0, 0, 0]])\n",
    "Matrix(L)\n"
   ]
  },
  {
   "cell_type": "code",
   "execution_count": 3,
   "id": "76d0d1fc",
   "metadata": {},
   "outputs": [
    {
     "data": {
      "text/latex": [
       "$\\displaystyle \\left[\\begin{matrix}0.2\\\\0.2\\\\0.2\\\\0.2\\\\0.2\\end{matrix}\\right]$"
      ],
      "text/plain": [
       "Matrix([\n",
       "[0.2],\n",
       "[0.2],\n",
       "[0.2],\n",
       "[0.2],\n",
       "[0.2]])"
      ]
     },
     "execution_count": 3,
     "metadata": {},
     "output_type": "execute_result"
    }
   ],
   "source": [
    "#b)Create an initial vector r that represents the percentage of people on each webpage at time t = 0.\n",
    "r=np.ones([5,1])*1/5\n",
    "#Divide by 5 since you have 5 pages\n",
    "Matrix(r)"
   ]
  },
  {
   "cell_type": "code",
   "execution_count": 4,
   "id": "96ac91f9",
   "metadata": {},
   "outputs": [
    {
     "name": "stdout",
     "output_type": "stream",
     "text": [
      "1\n",
      "2\n",
      "3\n",
      "4\n",
      "5\n",
      "6\n",
      "7\n",
      "8\n",
      "9\n"
     ]
    }
   ],
   "source": [
    "#c)Compute the percentage number of surfers for each of the 5 webpages by iteratively\n",
    "#updating r using the matrix L until r becomes stable. Use a tolerance of 0.005, i.e.\n",
    "#the norm of r should not change by more than 0.005 when r becomes stable. Print\n",
    "#the number of iterations till convergence\n",
    "\n",
    "#L2 norm\n",
    "#Looping until r becomes stable\n",
    "iterations=0\n",
    "while(abs(la.norm(r-(L@r),2))>=0.005):\n",
    "    iterations=iterations+1\n",
    "    print(iterations)\n",
    "    r=L@r\n",
    "\n",
    "#Matrix(r)"
   ]
  },
  {
   "cell_type": "code",
   "execution_count": 5,
   "id": "571b55e7",
   "metadata": {},
   "outputs": [
    {
     "name": "stdout",
     "output_type": "stream",
     "text": [
      "E-value: [ 1.        +0.j        -0.19935713+0.6613774j -0.19935713-0.6613774j\n",
      " -0.30064287+0.1613774j -0.30064287-0.1613774j]\n",
      "E-vector [[ 0.21707238+0.j          0.09012837+0.29900543j  0.09012837-0.29900543j\n",
      "  -0.56508906-0.30332535j -0.56508906+0.30332535j]\n",
      " [ 0.43414476+0.j          0.3201617 +0.02115627j  0.3201617 -0.02115627j\n",
      "   0.21536735+0.087958j    0.21536735-0.087958j  ]\n",
      " [ 0.65121714+0.j         -0.64716951+0.j         -0.64716951-0.j\n",
      "   0.65651957+0.j          0.65651957-0.j        ]\n",
      " [ 0.28942984+0.j          0.21572317+0.21572317j  0.21572317-0.21572317j\n",
      "  -0.21883986+0.21883986j -0.21883986-0.21883986j]\n",
      " [ 0.50650222+0.j          0.02115627-0.53588487j  0.02115627+0.53588487j\n",
      "  -0.087958  -0.00347251j -0.087958  +0.00347251j]]\n"
     ]
    }
   ],
   "source": [
    "#d)Compute the percentage number of surfers for each of the 5 webpages, using\n",
    "#eigentheory.\n",
    "#Hint: You will need to compute the eigenvalues and eigenvectors of matrix L.\n",
    "eva,eve=la.eig(L)\n",
    "print('E-value:',eva)\n",
    "print('E-vector', eve)\n"
   ]
  },
  {
   "cell_type": "code",
   "execution_count": 6,
   "id": "bb105971",
   "metadata": {},
   "outputs": [
    {
     "data": {
      "text/latex": [
       "$\\displaystyle \\left[\\begin{matrix}0.103448275862069\\\\0.206896551724138\\\\0.310344827586207\\\\0.137931034482759\\\\0.241379310344828\\end{matrix}\\right]$"
      ],
      "text/plain": [
       "Matrix([\n",
       "[0.103448275862069],\n",
       "[0.206896551724138],\n",
       "[0.310344827586207],\n",
       "[0.137931034482759],\n",
       "[0.241379310344828]])"
      ]
     },
     "execution_count": 6,
     "metadata": {},
     "output_type": "execute_result"
    }
   ],
   "source": [
    "#Eigenvector with row which has 1 as eigen value\n",
    "vector=eve[:,0]\n",
    "#Normalising vector\n",
    "divisor=la.norm(vector,1)\n",
    "vector=vector/divisor\n",
    "Matrix(vector)"
   ]
  },
  {
   "cell_type": "code",
   "execution_count": 7,
   "id": "c442f447",
   "metadata": {},
   "outputs": [
    {
     "data": {
      "text/latex": [
       "$\\displaystyle \\left[\\begin{matrix}0.0833333333333333 & 0.0833333333333333 & 0.25 & 0.0833333333333333 & 0.0833333333333333 & 0.0833333333333333\\\\0.25 & 0.0833333333333333 & 0.25 & 0.333333333333333 & 0.0833333333333333 & 0.0833333333333333\\\\0.0833333333333333 & 0.0833333333333333 & 0.0833333333333333 & 0.333333333333333 & 0.583333333333333 & 0.0833333333333333\\\\0.25 & 0.0833333333333333 & 0.25 & 0.0833333333333333 & 0.0833333333333333 & 0.0833333333333333\\\\0.25 & 0.583333333333333 & 0.0833333333333333 & 0.0833333333333333 & 0.0833333333333333 & 0.0833333333333333\\\\0.0833333333333333 & 0.0833333333333333 & 0.0833333333333333 & 0.0833333333333333 & 0.0833333333333333 & 0.583333333333333\\end{matrix}\\right]$"
      ],
      "text/plain": [
       "Matrix([\n",
       "[0.0833333333333333, 0.0833333333333333,               0.25, 0.0833333333333333, 0.0833333333333333, 0.0833333333333333],\n",
       "[              0.25, 0.0833333333333333,               0.25,  0.333333333333333, 0.0833333333333333, 0.0833333333333333],\n",
       "[0.0833333333333333, 0.0833333333333333, 0.0833333333333333,  0.333333333333333,  0.583333333333333, 0.0833333333333333],\n",
       "[              0.25, 0.0833333333333333,               0.25, 0.0833333333333333, 0.0833333333333333, 0.0833333333333333],\n",
       "[              0.25,  0.583333333333333, 0.0833333333333333, 0.0833333333333333, 0.0833333333333333, 0.0833333333333333],\n",
       "[0.0833333333333333, 0.0833333333333333, 0.0833333333333333, 0.0833333333333333, 0.0833333333333333,  0.583333333333333]])"
      ]
     },
     "execution_count": 7,
     "metadata": {},
     "output_type": "execute_result"
    }
   ],
   "source": [
    "#There is a small probability that surfers type a random URL instead of clicking any of the\n",
    "#links. If the probability that a surfer picks a link is d, the probability that a surfer types a URL\n",
    "#instead is 1 − d. The new matrix that works out which page the surfers will visit next is\n",
    "#given by\n",
    "\n",
    "#e)Compute matrix M\n",
    "\n",
    "#where J is an n × n matrix with each element set to one. When d = 1, the surfers will\n",
    "#always pick links. On the other hand, when d = 0, the surfers will always type in a random\n",
    "#URL. For this project, set d = 0.5 and expand your network with a new page F that only links\n",
    "#to itself.\n",
    "\n",
    "#Values n and d are given\n",
    "d=0.5\n",
    "#We will need to increment n since we are adding a new page F\n",
    "n=6\n",
    "\n",
    "#Creating matrix J\n",
    "J=np.ones([6,6])\n",
    "\n",
    "#Expanding network with new page F which links with itself\n",
    "L2 = np.array([[0, 0, 1/3, 0, 0, 0],\n",
    "              [1/3, 0, 1/3, 1/2, 0, 0],\n",
    "              [0, 0, 0, 1/2, 1, 0],\n",
    "              [1/3, 0, 1/3, 0, 0, 0],\n",
    "              [1/3, 1, 0, 0, 0, 0],\n",
    "              [0, 0, 0, 0, 0, 1]])\n",
    "\n",
    "#Substituing in the formula to calculate M\n",
    "M=d*L2+((1-d)/n)*J\n",
    "Matrix(M)"
   ]
  },
  {
   "cell_type": "code",
   "execution_count": 8,
   "id": "2cb6ef05",
   "metadata": {},
   "outputs": [],
   "source": [
    "#f)Compute the percentage number of surfers for each of the 6 webpages. Use a\n",
    "#tolerance of 0.005. Print the number of iterations till convergence."
   ]
  },
  {
   "cell_type": "code",
   "execution_count": 15,
   "id": "d0dfc2d5",
   "metadata": {},
   "outputs": [
    {
     "data": {
      "text/latex": [
       "$\\displaystyle \\left[\\begin{matrix}0.103448275862069\\\\0.206896551724138\\\\0.310344827586207\\\\0.137931034482759\\\\0.241379310344828\\\\0\\end{matrix}\\right]$"
      ],
      "text/plain": [
       "Matrix([\n",
       "[0.103448275862069],\n",
       "[0.206896551724138],\n",
       "[0.310344827586207],\n",
       "[0.137931034482759],\n",
       "[0.241379310344828],\n",
       "[                0]])"
      ]
     },
     "execution_count": 15,
     "metadata": {},
     "output_type": "execute_result"
    }
   ],
   "source": [
    "eva2,eve2=la.eig(L2)\n",
    "#Eigenvector with row which has 1 as eigen value\n",
    "vector=eve2[:,0]\n",
    "#Normalising vector\n",
    "divisor=la.norm(vector,1)\n",
    "vector=vector/divisor\n",
    "Matrix(vector)"
   ]
  },
  {
   "cell_type": "code",
   "execution_count": 16,
   "id": "c2152fdc",
   "metadata": {},
   "outputs": [
    {
     "name": "stdout",
     "output_type": "stream",
     "text": [
      "1\n",
      "2\n",
      "3\n",
      "4\n",
      "5\n",
      "6\n",
      "7\n",
      "8\n"
     ]
    },
    {
     "data": {
      "text/latex": [
       "$\\displaystyle \\left[\\begin{matrix}0.0850051440329218\\\\0.172839506172839\\\\0.257587448559671\\\\0.114326131687243\\\\0.203575102880658\\\\0.166666666666667\\end{matrix}\\right]$"
      ],
      "text/plain": [
       "Matrix([\n",
       "[0.0850051440329218],\n",
       "[ 0.172839506172839],\n",
       "[ 0.257587448559671],\n",
       "[ 0.114326131687243],\n",
       "[ 0.203575102880658],\n",
       "[ 0.166666666666667]])"
      ]
     },
     "execution_count": 16,
     "metadata": {},
     "output_type": "execute_result"
    }
   ],
   "source": [
    "#Calculating with other method\n",
    "r2=np.ones([n,1])*1/n\n",
    "#Looping until r becomes stable\n",
    "iterations=0\n",
    "while(abs(la.norm(r2-(L2@r2),2))>=0.005):\n",
    "    iterations=iterations+1\n",
    "    print(iterations)\n",
    "    r2=L2@r2\n",
    "\n",
    "Matrix(r2)"
   ]
  },
  {
   "cell_type": "code",
   "execution_count": null,
   "id": "c8e1e738",
   "metadata": {},
   "outputs": [],
   "source": []
  },
  {
   "cell_type": "code",
   "execution_count": 17,
   "id": "31425c76",
   "metadata": {},
   "outputs": [],
   "source": [
    "#g)Write a function called gen_net that takes in a variable n_pages and returns a\n",
    "#random link matrix link_mat for a network that is made up of n webpages."
   ]
  },
  {
   "cell_type": "code",
   "execution_count": 18,
   "id": "aa87ada4",
   "metadata": {},
   "outputs": [
    {
     "data": {
      "text/latex": [
       "$\\displaystyle \\left[\\begin{matrix}0.384615384615385 & 0.0 & 0.266666666666667 & 0.0833333333333333 & 0.833333333333333\\\\0.153846153846154 & 0.266666666666667 & 0.333333333333333 & 0.166666666666667 & 0.0\\\\0.0769230769230769 & 0.133333333333333 & 0.133333333333333 & 0.416666666666667 & 0.0\\\\0.230769230769231 & 0.333333333333333 & 0.133333333333333 & 0.0833333333333333 & 0.166666666666667\\\\0.153846153846154 & 0.266666666666667 & 0.133333333333333 & 0.25 & 0.0\\end{matrix}\\right]$"
      ],
      "text/plain": [
       "Matrix([\n",
       "[ 0.384615384615385,               0.0, 0.266666666666667, 0.0833333333333333, 0.833333333333333],\n",
       "[ 0.153846153846154, 0.266666666666667, 0.333333333333333,  0.166666666666667,               0.0],\n",
       "[0.0769230769230769, 0.133333333333333, 0.133333333333333,  0.416666666666667,               0.0],\n",
       "[ 0.230769230769231, 0.333333333333333, 0.133333333333333, 0.0833333333333333, 0.166666666666667],\n",
       "[ 0.153846153846154, 0.266666666666667, 0.133333333333333,               0.25,               0.0]])"
      ]
     },
     "execution_count": 18,
     "metadata": {},
     "output_type": "execute_result"
    }
   ],
   "source": [
    "import random\n",
    "\n",
    "def gen_net(n_pages):\n",
    "    #Creating empty matrix\n",
    "        Link_mat=np.empty(n_pages)\n",
    "        #Looping through rows\n",
    "        for i in range(n_pages):\n",
    "            vector=np.empty(n_pages)\n",
    "            #Looping through columns\n",
    "            for j in range(n_pages):\n",
    "                #Generating random value\n",
    "                vector[j]=random.randint(0,n_pages)\n",
    "            #Normalising vector\n",
    "            divisor=la.norm(vector,1)\n",
    "            vector=vector/divisor\n",
    "            #Appending array to matrix\n",
    "            Link_mat=np.c_[Link_mat,vector]\n",
    "        #Removing first row since it is generated with random numbers\n",
    "        Link_mat=np.delete(Link_mat,0,1)\n",
    "        return Link_mat\n",
    "\n",
    "Matrix(gen_net(5))"
   ]
  },
  {
   "cell_type": "code",
   "execution_count": 19,
   "id": "2e2afea3",
   "metadata": {},
   "outputs": [],
   "source": [
    "#h)Write a function called page_rank that takes as input a link matrix (of any size) and\n",
    "#the damping factor d, and returns the vector of percentages r."
   ]
  },
  {
   "cell_type": "code",
   "execution_count": 20,
   "id": "7465d64b",
   "metadata": {},
   "outputs": [
    {
     "data": {
      "text/latex": [
       "$\\displaystyle \\left[\\begin{matrix}0.103448275862069\\\\0.206896551724138\\\\0.310344827586207\\\\0.137931034482759\\\\0.241379310344828\\\\0\\end{matrix}\\right]$"
      ],
      "text/plain": [
       "Matrix([\n",
       "[0.103448275862069],\n",
       "[0.206896551724138],\n",
       "[0.310344827586207],\n",
       "[0.137931034482759],\n",
       "[0.241379310344828],\n",
       "[                0]])"
      ]
     },
     "execution_count": 20,
     "metadata": {},
     "output_type": "execute_result"
    }
   ],
   "source": [
    "def page_rank(L,d):\n",
    "    #To find the number of columns\n",
    "    n=np.size(L,1)\n",
    "    J=np.ones([n,n])\n",
    "    M=d*L+((1-d)/n)*J\n",
    "    eva,eve=la.eig(M)\n",
    "    #Eigenvector with row which has 1 as eigen value\n",
    "    vector=eve2[:,0]\n",
    "    #Normalising vector\n",
    "    divisor=la.norm(vector,1)\n",
    "    vector=vector/divisor\n",
    "    return vector\n",
    "\n",
    "Matrix(page_rank(gen_net(5),0.005))"
   ]
  },
  {
   "cell_type": "code",
   "execution_count": null,
   "id": "11aca9a4",
   "metadata": {},
   "outputs": [],
   "source": []
  }
 ],
 "metadata": {
  "kernelspec": {
   "display_name": "Python 3",
   "language": "python",
   "name": "python3"
  },
  "language_info": {
   "codemirror_mode": {
    "name": "ipython",
    "version": 3
   },
   "file_extension": ".py",
   "mimetype": "text/x-python",
   "name": "python",
   "nbconvert_exporter": "python",
   "pygments_lexer": "ipython3",
   "version": "3.8.8"
  }
 },
 "nbformat": 4,
 "nbformat_minor": 5
}
