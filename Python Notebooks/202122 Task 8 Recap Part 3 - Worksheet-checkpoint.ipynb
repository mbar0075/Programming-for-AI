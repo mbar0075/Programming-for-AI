{
 "cells": [
  {
   "cell_type": "markdown",
   "metadata": {},
   "source": [
    "### Question\n",
    "\n",
    "Generate a random password which meets the following conditions:\n",
    "\n",
    "- Password length must be 9 characters long\n",
    "- It must contain at least 1 uppercase letter, 1 digit and 1 special symbol. The rest should be lowercase letters."
   ]
  },
  {
   "cell_type": "code",
   "execution_count": 161,
   "metadata": {},
   "outputs": [],
   "source": [
    "import random;\n",
    "\n",
    "\n",
    "password=[];\n",
    "for i in range(9):\n",
    "    #populating array with letters\n",
    "    password.append((chr)(random.randint(97,122)));\n",
    "                    \n",
    "#To overwrite one character to be an upper case letter\n",
    "uppercase = random.randint(0,8);\n",
    "password[uppercase]=(chr)(random.randint(65,90));                    \n",
    "\n",
    "#To overwrite one character to be a number\n",
    "digit = random.randint(0,8);\n",
    "#Index of uppercase and digit needs to be different\n",
    "while(uppercase==digit):\n",
    "    digit = random.randint(0,8);\n",
    "                     \n",
    "password[digit]=random.randint(1,9);\n",
    "\n",
    "#To overwrite one character to be a symbol\n",
    "symbol = random.randint(0,8);\n",
    "\n",
    "#Index of symbol and digit needs to be different\n",
    "while(symbol==digit and symbol==uppercase):\n",
    "    symbol = random.randint(0,8);\n",
    "    \n",
    "#Array with 4 different ranges of symbols in ascii    \n",
    "array=[random.randint(33,47),random.randint(58,61),random.randint(91,96),random.randint(123,126)]; \n",
    "\n",
    "password[symbol]=(chr)(array[random.randint(0,3)]);"
   ]
  },
  {
   "cell_type": "code",
   "execution_count": 162,
   "metadata": {},
   "outputs": [
    {
     "data": {
      "text/plain": [
       "[5, 'g', 'o', 'z', 'q', '[', 'u', 'K', 'h']"
      ]
     },
     "execution_count": 162,
     "metadata": {},
     "output_type": "execute_result"
    }
   ],
   "source": [
    "password"
   ]
  },
  {
   "cell_type": "code",
   "execution_count": 163,
   "metadata": {},
   "outputs": [
    {
     "name": "stdout",
     "output_type": "stream",
     "text": [
      "Your password is:\n",
      "5gozq[uKh"
     ]
    }
   ],
   "source": [
    "print(\"Your password is:\")\n",
    "for i in password:\n",
    "    print(i , end=\"\")"
   ]
  },
  {
   "cell_type": "code",
   "execution_count": null,
   "metadata": {},
   "outputs": [],
   "source": []
  },
  {
   "cell_type": "code",
   "execution_count": null,
   "metadata": {},
   "outputs": [],
   "source": []
  }
 ],
 "metadata": {
  "kernelspec": {
   "display_name": "Python 3",
   "language": "python",
   "name": "python3"
  },
  "language_info": {
   "codemirror_mode": {
    "name": "ipython",
    "version": 3
   },
   "file_extension": ".py",
   "mimetype": "text/x-python",
   "name": "python",
   "nbconvert_exporter": "python",
   "pygments_lexer": "ipython3",
   "version": "3.8.8"
  }
 },
 "nbformat": 4,
 "nbformat_minor": 4
}
