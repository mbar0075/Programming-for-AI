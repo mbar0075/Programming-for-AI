{
 "cells": [
  {
   "cell_type": "markdown",
   "id": "e2ce0e09",
   "metadata": {},
   "source": [
    "# Matthias Bartolo    Data Structures and Algorithms I     Coursework 2021-2022"
   ]
  },
  {
   "cell_type": "code",
   "execution_count": null,
   "id": "ff83b1d7",
   "metadata": {},
   "outputs": [],
   "source": []
  },
  {
   "cell_type": "markdown",
   "id": "f741162c",
   "metadata": {},
   "source": [
    "# Question 1) Shell Sort and Quick Sort\n",
    "Create two integer arrays A and B. The two arrays must contain at least 256 elements\n",
    "but must be of unequal size. Populate both arrays with randomly generated integers\n",
    "between 0 and 1024. Sort array A using Shell Sort and array B using Quick Sort."
   ]
  },
  {
   "cell_type": "code",
   "execution_count": 1,
   "id": "4897e821",
   "metadata": {},
   "outputs": [],
   "source": [
    "import random;\n",
    "#Declaring arrays\n",
    "arrayA=[];\n",
    "arrayB=[];\n",
    "\n",
    "#Populating both arrays with random values\n",
    "for i in range(0,258):\n",
    "    arrayA.append(random.randint(0,1024));\n",
    "\n",
    "for i in range(0,257):\n",
    "    arrayB.append(random.randint(0,1024));"
   ]
  },
  {
   "cell_type": "code",
   "execution_count": 2,
   "id": "13abc3ec",
   "metadata": {},
   "outputs": [],
   "source": [
    "def ShellSort(mylist,n):\n",
    "    k=int(n/2);#Where k is gap\n",
    "    #Looping until gap>0\n",
    "    while k>0:\n",
    "        #Looping from gap to end\n",
    "        for i in range(k,n):\n",
    "            nextPos=i;#Position of element to insert\n",
    "            nextVal=mylist[i];#Value of element\n",
    "            while nextPos>=k and mylist[nextPos-k]>nextVal:\n",
    "                #Shifting elements at nextPos-gap to nextPos\n",
    "                temp=mylist[nextPos];\n",
    "                mylist[nextPos]=mylist[nextPos-k];\n",
    "                mylist[nextPos-k]=temp;\n",
    "                #Decrementing nextPos by gap\n",
    "                nextPos=nextPos-k;\n",
    "        if k==2:#if gap= 2 then set gap to 1\n",
    "            k=1;\n",
    "        else:#Dividing gap by 2\n",
    "            k=int(k/2);"
   ]
  },
  {
   "cell_type": "code",
   "execution_count": null,
   "id": "ae64b4ba",
   "metadata": {},
   "outputs": [],
   "source": []
  },
  {
   "cell_type": "code",
   "execution_count": 3,
   "id": "4af0ff48",
   "metadata": {},
   "outputs": [],
   "source": [
    "def QuickSort(mylist,first,last):\n",
    "    #Recursive Case where first pointer is smaller than last pointer\n",
    "    if first<last:\n",
    "        #Finding pivot element such that elements are smaller on the left and greater on the right\n",
    "        pivotPos=partition(mylist,first,last);\n",
    "        #Sorting left sublist\n",
    "        QuickSort(mylist,first,pivotPos-1);\n",
    "        #Sorting right sublist\n",
    "        QuickSort(mylist,pivotPos+1,last);"
   ]
  },
  {
   "cell_type": "code",
   "execution_count": 4,
   "id": "51615622",
   "metadata": {},
   "outputs": [],
   "source": [
    "def partition(mylist,first,last):\n",
    "    #Finding the size of array\n",
    "    n=last-first;\n",
    "    #Finding the best pivot\n",
    "    tempa=[];\n",
    "    \n",
    "    if n>10:\n",
    "        #For larger lists if statement is used\n",
    "        #Populating tempa with random integers\n",
    "        for i in range(0,int(n/5)):\n",
    "            m=random.randint(first,last);\n",
    "            tempa.append(mylist[m]);\n",
    "        #Sorting array\n",
    "        ShellSort(tempa,len(tempa));\n",
    "        #Taking median as the pivot\n",
    "        pivot=tempa[int(len(tempa)/2)];\n",
    "        #Finding pivot position in original array\n",
    "        pivotpos=mylist.index(pivot);\n",
    "            \n",
    "        #Setting pivot value last position by swapping\n",
    "        mylist[pivotpos]=mylist[last];\n",
    "        mylist[last]=pivot;\n",
    "    else:\n",
    "        #For smaller lists else statement is used\n",
    "        pivot=mylist[last];\n",
    "    \n",
    "    #Pointer pointing to the position of the last element which is smaller than the pivot\n",
    "    psmall=first-1;\n",
    "    \n",
    "    #Traversing through list\n",
    "    for pelement in range(first,last):\n",
    "        #If element is smaller than pivot\n",
    "        if mylist[pelement]<pivot:\n",
    "            #Incrementing pointer of the smaller element\n",
    "            psmall=psmall+1;\n",
    "            #Swapping the smaller element with the current element\n",
    "            tempv=mylist[pelement];\n",
    "            mylist[pelement]=mylist[psmall];\n",
    "            mylist[psmall]=tempv;\n",
    "    \n",
    "    #Putting the pivot in it's right position by swapping\n",
    "    tempv=mylist[last];\n",
    "    mylist[last]=mylist[psmall+1];\n",
    "    mylist[psmall+1]=tempv;\n",
    "    #Returning the pivot position\n",
    "    return psmall+1;"
   ]
  },
  {
   "cell_type": "code",
   "execution_count": 5,
   "id": "0b0359bb",
   "metadata": {},
   "outputs": [
    {
     "name": "stdout",
     "output_type": "stream",
     "text": [
      "[718, 689, 930, 25, 278, 593, 968, 313, 445, 911, 732, 178, 645, 898, 802, 81, 224, 97, 459, 840, 94, 285, 216, 691, 274, 227, 646, 374, 430, 523, 650, 335, 145, 836, 598, 676, 692, 160, 85, 972, 187, 796, 775, 948, 313, 960, 969, 651, 167, 710, 930, 250, 109, 417, 938, 557, 398, 194, 264, 612, 616, 1016, 834, 565, 69, 509, 583, 481, 429, 156, 398, 776, 432, 792, 274, 365, 182, 850, 650, 677, 519, 654, 203, 615, 488, 484, 318, 205, 676, 23, 568, 431, 197, 868, 20, 147, 504, 358, 153, 1014, 790, 26, 303, 700, 702, 677, 523, 156, 198, 305, 521, 1003, 291, 982, 974, 563, 349, 590, 683, 664, 310, 666, 726, 387, 177, 898, 462, 911, 994, 567, 1001, 1023, 712, 708, 630, 472, 131, 461, 447, 429, 626, 19, 1015, 764, 833, 745, 278, 106, 513, 575, 312, 137, 14, 317, 706, 146, 836, 162, 407, 957, 211, 962, 996, 426, 278, 277, 311, 846, 317, 181, 976, 419, 1009, 42, 979, 736, 37, 453, 142, 632, 551, 937, 301, 223, 325, 759, 298, 677, 206, 725, 1023, 201, 861, 120, 159, 39, 28, 324, 332, 588, 296, 532, 51, 167, 416, 943, 159, 740, 758, 249, 387, 22, 281, 914, 893, 444, 234, 678, 930, 162, 225, 346, 516, 288, 164, 798, 658, 610, 529, 578, 291, 600, 699, 292, 642, 684, 795, 57, 403, 699, 710, 388, 342, 1008, 790, 626, 328, 288, 412, 144, 435, 572, 33, 817, 517, 71, 1002, 734]\n",
      "\n",
      "[14, 19, 20, 22, 23, 25, 26, 28, 33, 37, 39, 42, 51, 57, 69, 71, 81, 85, 94, 97, 106, 109, 120, 131, 137, 142, 144, 145, 146, 147, 153, 156, 156, 159, 159, 160, 162, 162, 164, 167, 167, 177, 178, 181, 182, 187, 194, 197, 198, 201, 203, 205, 206, 211, 216, 223, 224, 225, 227, 234, 249, 250, 264, 274, 274, 277, 278, 278, 278, 281, 285, 288, 288, 291, 291, 292, 296, 298, 301, 303, 305, 310, 311, 312, 313, 313, 317, 317, 318, 324, 325, 328, 332, 335, 342, 346, 349, 358, 365, 374, 387, 387, 388, 398, 398, 403, 407, 412, 416, 417, 419, 426, 429, 429, 430, 431, 432, 435, 444, 445, 447, 453, 459, 461, 462, 472, 481, 484, 488, 504, 509, 513, 516, 517, 519, 521, 523, 523, 529, 532, 551, 557, 563, 565, 567, 568, 572, 575, 578, 583, 588, 590, 593, 598, 600, 610, 612, 615, 616, 626, 626, 630, 632, 642, 645, 646, 650, 650, 651, 654, 658, 664, 666, 676, 676, 677, 677, 677, 678, 683, 684, 689, 691, 692, 699, 699, 700, 702, 706, 708, 710, 710, 712, 718, 725, 726, 732, 734, 736, 740, 745, 758, 759, 764, 775, 776, 790, 790, 792, 795, 796, 798, 802, 817, 833, 834, 836, 836, 840, 846, 850, 861, 868, 893, 898, 898, 911, 911, 914, 930, 930, 930, 937, 938, 943, 948, 957, 960, 962, 968, 969, 972, 974, 976, 979, 982, 994, 996, 1001, 1002, 1003, 1008, 1009, 1014, 1015, 1016, 1023, 1023]\n"
     ]
    }
   ],
   "source": [
    "print(arrayA);\n",
    "ShellSort(arrayA,len(arrayA));\n",
    "print();\n",
    "print(arrayA);\n"
   ]
  },
  {
   "cell_type": "code",
   "execution_count": 6,
   "id": "86df2521",
   "metadata": {},
   "outputs": [
    {
     "name": "stdout",
     "output_type": "stream",
     "text": [
      "[706, 163, 277, 401, 650, 647, 723, 753, 983, 336, 716, 889, 469, 289, 381, 476, 949, 495, 874, 497, 217, 352, 917, 497, 82, 980, 448, 989, 189, 296, 617, 402, 744, 405, 604, 903, 787, 32, 401, 752, 6, 414, 792, 175, 296, 996, 1000, 141, 388, 404, 668, 455, 971, 340, 327, 659, 167, 488, 596, 784, 56, 481, 677, 527, 29, 506, 916, 654, 550, 281, 947, 615, 977, 207, 267, 754, 327, 963, 1006, 49, 466, 356, 682, 138, 432, 1000, 474, 861, 864, 1, 54, 92, 734, 121, 758, 163, 58, 110, 99, 240, 540, 218, 696, 887, 1008, 873, 437, 796, 583, 687, 918, 81, 59, 696, 91, 187, 840, 510, 22, 316, 105, 466, 378, 27, 612, 797, 448, 640, 254, 193, 583, 58, 640, 218, 698, 52, 468, 549, 283, 60, 989, 590, 889, 527, 318, 207, 586, 265, 115, 227, 743, 478, 165, 259, 241, 298, 212, 216, 495, 369, 184, 711, 26, 207, 138, 527, 773, 294, 752, 301, 760, 537, 248, 1008, 369, 357, 650, 547, 958, 932, 452, 305, 385, 953, 703, 945, 495, 950, 683, 220, 44, 252, 843, 29, 809, 694, 407, 452, 341, 899, 367, 701, 406, 192, 241, 305, 177, 133, 546, 954, 207, 425, 986, 240, 41, 856, 735, 847, 428, 671, 158, 834, 331, 751, 316, 623, 1007, 829, 732, 153, 75, 162, 13, 699, 567, 408, 504, 192, 401, 979, 600, 962, 93, 65, 398, 96, 467, 759, 1004, 190, 820, 417, 749, 498, 328, 808, 543]\n",
      "\n",
      "[1, 6, 13, 22, 26, 27, 29, 29, 32, 41, 44, 49, 52, 54, 56, 58, 58, 59, 60, 65, 75, 81, 82, 91, 92, 93, 96, 99, 105, 110, 115, 121, 133, 138, 138, 141, 153, 158, 162, 163, 163, 165, 167, 175, 177, 184, 187, 189, 190, 192, 192, 193, 207, 207, 207, 207, 212, 216, 217, 218, 218, 220, 227, 240, 240, 241, 241, 248, 252, 254, 259, 265, 267, 277, 281, 283, 289, 294, 296, 296, 298, 301, 305, 305, 316, 316, 318, 327, 327, 328, 331, 336, 340, 341, 352, 356, 357, 367, 369, 369, 378, 381, 385, 388, 398, 401, 401, 401, 402, 404, 405, 406, 407, 408, 414, 417, 425, 428, 432, 437, 448, 448, 452, 452, 455, 466, 466, 467, 468, 469, 474, 476, 478, 481, 488, 495, 495, 495, 497, 497, 498, 504, 506, 510, 527, 527, 527, 537, 540, 543, 546, 547, 549, 550, 567, 583, 583, 586, 590, 596, 600, 604, 612, 615, 617, 623, 640, 640, 647, 650, 650, 654, 659, 668, 671, 677, 682, 683, 687, 694, 696, 696, 698, 699, 701, 703, 706, 711, 716, 723, 732, 734, 735, 743, 744, 749, 751, 752, 752, 753, 754, 758, 759, 760, 773, 784, 787, 792, 796, 797, 808, 809, 820, 829, 834, 840, 843, 847, 856, 861, 864, 873, 874, 887, 889, 889, 899, 903, 916, 917, 918, 932, 945, 947, 949, 950, 953, 954, 958, 962, 963, 971, 977, 979, 980, 983, 986, 989, 989, 996, 1000, 1000, 1004, 1006, 1007, 1008, 1008]\n"
     ]
    }
   ],
   "source": [
    "print(arrayB);\n",
    "QuickSort(arrayB,0,len(arrayB)-1);\n",
    "print();\n",
    "print(arrayB);"
   ]
  },
  {
   "cell_type": "code",
   "execution_count": null,
   "id": "81030345",
   "metadata": {},
   "outputs": [],
   "source": []
  },
  {
   "cell_type": "markdown",
   "id": "748ad133",
   "metadata": {},
   "source": [
    "# Question 2) Merging 2 sorted arrays\n",
    "Take the two sorted arrays A and B from the question above and merge into a new\n",
    "array C. You must do this in linear time. Note that the size of C must be size of A plus\n",
    "size of B."
   ]
  },
  {
   "cell_type": "code",
   "execution_count": 7,
   "id": "7dbc8cee",
   "metadata": {},
   "outputs": [],
   "source": [
    "def merge(mylist1,mylist2):\n",
    "    #Calculating size of new list\n",
    "    size=len(mylist1)+len(mylist2);\n",
    "    #Setting indexes of both lists to starting position i.e pos 0\n",
    "    count1=0;\n",
    "    count2=0;\n",
    "    #Declaring new list\n",
    "    mylist3=[];\n",
    "    #Looping through all elements until count1 is smaller than length of mylist1 \n",
    "    #and count2 is smaller than length of mylist2\n",
    "    while count1<len(mylist1) and count2<len(mylist2):\n",
    "            #If element in mylist1 is larger than element in mylist2\n",
    "            if mylist1[count1]>mylist2[count2]:\n",
    "                #Add element in mylist2 to new list\n",
    "                mylist3.append(mylist2[count2]);\n",
    "                #Incrementing count2\n",
    "                count2=count2+1;\n",
    "            else:\n",
    "                #Add element in mylist1 to new list\n",
    "                mylist3.append(mylist1[count1]);\n",
    "                #Incrementing count1\n",
    "                count1=count1+1;\n",
    "    \n",
    "    #Placing the remaining elements to mylist3:\n",
    "    #Note that only one of the following loops will be executed depending which \n",
    "    #counter has not reached the end of the list respectively.\n",
    "    \n",
    "    #Adding the remaining elements of mylist1 to mylist3 \n",
    "    #if the count1 is smaller than length of mylist1\n",
    "    while count1<len(mylist1):\n",
    "            mylist3.append(mylist1[count1]);\n",
    "            count1=count1+1;\n",
    "    \n",
    "    #Adding the remaining elements of mylist2 to mylist3 \n",
    "    #if the count2 is smaller than length of mylist2\n",
    "    while count2<len(mylist2):\n",
    "            mylist3.append(mylist2[count2]);\n",
    "            count2=count2+1;        \n",
    "    \n",
    "    #Returning new list\n",
    "    return mylist3;"
   ]
  },
  {
   "cell_type": "code",
   "execution_count": 8,
   "id": "8d053a7c",
   "metadata": {},
   "outputs": [
    {
     "name": "stdout",
     "output_type": "stream",
     "text": [
      "[1, 6, 13, 14, 19, 20, 22, 22, 23, 25, 26, 26, 27, 28, 29, 29, 32, 33, 37, 39, 41, 42, 44, 49, 51, 52, 54, 56, 57, 58, 58, 59, 60, 65, 69, 71, 75, 81, 81, 82, 85, 91, 92, 93, 94, 96, 97, 99, 105, 106, 109, 110, 115, 120, 121, 131, 133, 137, 138, 138, 141, 142, 144, 145, 146, 147, 153, 153, 156, 156, 158, 159, 159, 160, 162, 162, 162, 163, 163, 164, 165, 167, 167, 167, 175, 177, 177, 178, 181, 182, 184, 187, 187, 189, 190, 192, 192, 193, 194, 197, 198, 201, 203, 205, 206, 207, 207, 207, 207, 211, 212, 216, 216, 217, 218, 218, 220, 223, 224, 225, 227, 227, 234, 240, 240, 241, 241, 248, 249, 250, 252, 254, 259, 264, 265, 267, 274, 274, 277, 277, 278, 278, 278, 281, 281, 283, 285, 288, 288, 289, 291, 291, 292, 294, 296, 296, 296, 298, 298, 301, 301, 303, 305, 305, 305, 310, 311, 312, 313, 313, 316, 316, 317, 317, 318, 318, 324, 325, 327, 327, 328, 328, 331, 332, 335, 336, 340, 341, 342, 346, 349, 352, 356, 357, 358, 365, 367, 369, 369, 374, 378, 381, 385, 387, 387, 388, 388, 398, 398, 398, 401, 401, 401, 402, 403, 404, 405, 406, 407, 407, 408, 412, 414, 416, 417, 417, 419, 425, 426, 428, 429, 429, 430, 431, 432, 432, 435, 437, 444, 445, 447, 448, 448, 452, 452, 453, 455, 459, 461, 462, 466, 466, 467, 468, 469, 472, 474, 476, 478, 481, 481, 484, 488, 488, 495, 495, 495, 497, 497, 498, 504, 504, 506, 509, 510, 513, 516, 517, 519, 521, 523, 523, 527, 527, 527, 529, 532, 537, 540, 543, 546, 547, 549, 550, 551, 557, 563, 565, 567, 567, 568, 572, 575, 578, 583, 583, 583, 586, 588, 590, 590, 593, 596, 598, 600, 600, 604, 610, 612, 612, 615, 615, 616, 617, 623, 626, 626, 630, 632, 640, 640, 642, 645, 646, 647, 650, 650, 650, 650, 651, 654, 654, 658, 659, 664, 666, 668, 671, 676, 676, 677, 677, 677, 677, 678, 682, 683, 683, 684, 687, 689, 691, 692, 694, 696, 696, 698, 699, 699, 699, 700, 701, 702, 703, 706, 706, 708, 710, 710, 711, 712, 716, 718, 723, 725, 726, 732, 732, 734, 734, 735, 736, 740, 743, 744, 745, 749, 751, 752, 752, 753, 754, 758, 758, 759, 759, 760, 764, 773, 775, 776, 784, 787, 790, 790, 792, 792, 795, 796, 796, 797, 798, 802, 808, 809, 817, 820, 829, 833, 834, 834, 836, 836, 840, 840, 843, 846, 847, 850, 856, 861, 861, 864, 868, 873, 874, 887, 889, 889, 893, 898, 898, 899, 903, 911, 911, 914, 916, 917, 918, 930, 930, 930, 932, 937, 938, 943, 945, 947, 948, 949, 950, 953, 954, 957, 958, 960, 962, 962, 963, 968, 969, 971, 972, 974, 976, 977, 979, 979, 980, 982, 983, 986, 989, 989, 994, 996, 996, 1000, 1000, 1001, 1002, 1003, 1004, 1006, 1007, 1008, 1008, 1008, 1009, 1014, 1015, 1016, 1023, 1023]\n"
     ]
    }
   ],
   "source": [
    "arrayC=merge(arrayA,arrayB);\n",
    "print(arrayC)"
   ]
  },
  {
   "cell_type": "code",
   "execution_count": null,
   "id": "de0fac08",
   "metadata": {},
   "outputs": [],
   "source": []
  },
  {
   "cell_type": "markdown",
   "id": "6741c7b2",
   "metadata": {},
   "source": [
    "# Question 3) Extreme\n",
    "Let A be an array of n elements (that is, the elements of A are A[0], . . . , A[n−1]). An\n",
    "element A[i] is called extreme if the following conditions hold regarding A[i].\n",
    "\n",
    "• A[i] is not the first nor the last element of A. That is, 0 < i < n – 1 and either A[i −\n",
    "1] < A[i] > A[i + 1] or A[i − 1] > A[i] < A[i + 1]. For example, the extreme points of\n",
    "an array [0, 5, 3, 6, 8, 7, 15, 9] are 5, 3, 8, 7, 15.\n",
    "\n",
    "Write an algorithm that prints the extreme points of the given array. If there are no\n",
    "extreme points, the algorithm prints “SORTED”. Do you agree that an array has no\n",
    "extreme points if and only if it is sorted? Explain your answer."
   ]
  },
  {
   "cell_type": "code",
   "execution_count": 9,
   "id": "7c4ca15d",
   "metadata": {},
   "outputs": [],
   "source": [
    "def extreme(array):\n",
    "    check =0;#Boolean variable to check if array is sorted\n",
    "    #Traversing through array\n",
    "    for i in range(1,len(array)-1):\n",
    "        #Checking extreme points and setting boolean variable to 1 to indicate not sorted\n",
    "        if(array[i-1]<array[i])and(array[i]>array[i+1]):\n",
    "            print(array[i]);\n",
    "            check=1;\n",
    "        if(array[i-1]>array[i])and(array[i]<array[i+1]):\n",
    "            print(array[i]);\n",
    "            check=1;\n",
    "    \n",
    "    #If condition to check if list is sorted based on boolean variable\n",
    "    if check==0:\n",
    "        print(\"SORTED\")"
   ]
  },
  {
   "cell_type": "code",
   "execution_count": 10,
   "id": "e1a5f0db",
   "metadata": {},
   "outputs": [],
   "source": [
    "#No, there are certain exceptions to this rule.\n",
    "#When an array is sorted the element prior is smaller than the current element and the subsequent element is larger \n",
    "#than the current element, as can be seen in Figure i).\n",
    "\n",
    "#This also applies if the prior element is larger than the current element and the subsequent element is smaller than the \n",
    "#current element, as can be seen in Figure ii).\n",
    "\n",
    "#The only exception to this rule, pertains to the data at the bounds i.e., first element and last element,\n",
    "#as can be seen in Figure iii).\n",
    "\n",
    "#Figure iv) prints the extreme points in the array"
   ]
  },
  {
   "cell_type": "code",
   "execution_count": 11,
   "id": "5c6f7a22",
   "metadata": {},
   "outputs": [
    {
     "name": "stdout",
     "output_type": "stream",
     "text": [
      "SORTED\n"
     ]
    }
   ],
   "source": [
    "#Figure i)\n",
    "mylist= [1,2,3,4,5,6,7];\n",
    "extreme(mylist);"
   ]
  },
  {
   "cell_type": "code",
   "execution_count": 12,
   "id": "74939c58",
   "metadata": {},
   "outputs": [
    {
     "name": "stdout",
     "output_type": "stream",
     "text": [
      "SORTED\n"
     ]
    }
   ],
   "source": [
    "#Figure ii)\n",
    "mylist= [7,6,5,4,3,2,1];\n",
    "extreme(mylist);"
   ]
  },
  {
   "cell_type": "code",
   "execution_count": 13,
   "id": "e95465f9",
   "metadata": {},
   "outputs": [
    {
     "name": "stdout",
     "output_type": "stream",
     "text": [
      "SORTED\n"
     ]
    }
   ],
   "source": [
    "#Figure iii)\n",
    "mylist= [5,7,7,7,5];\n",
    "extreme(mylist);"
   ]
  },
  {
   "cell_type": "code",
   "execution_count": 14,
   "id": "26a0a2a7",
   "metadata": {},
   "outputs": [
    {
     "name": "stdout",
     "output_type": "stream",
     "text": [
      "5\n",
      "3\n",
      "8\n",
      "7\n",
      "15\n"
     ]
    }
   ],
   "source": [
    "#Figure iv)\n",
    "mylist= [0,5,3,6,8,7,15,9];\n",
    "extreme(mylist);"
   ]
  },
  {
   "cell_type": "code",
   "execution_count": null,
   "id": "7b14f9af",
   "metadata": {},
   "outputs": [],
   "source": []
  },
  {
   "cell_type": "markdown",
   "id": "b5e6091d",
   "metadata": {},
   "source": [
    "# Question 4) Product\n",
    "Write a program that, given a list of integers, finds all 2-pairs of integers that have the\n",
    "same product. A 2-pair is 2 distinct pairs of integers ((a,b),(c,d)) where a X b = c X d\n",
    "and a ≠ b ≠ c ≠ d. The range of integers in the list should be from 1 to 1024. "
   ]
  },
  {
   "cell_type": "code",
   "execution_count": 15,
   "id": "b47134db",
   "metadata": {},
   "outputs": [
    {
     "name": "stdout",
     "output_type": "stream",
     "text": [
      "[697, 440, 936, 986, 547, 841, 694, 724, 941, 602, 279, 1009, 537, 16, 839, 485, 893, 1020, 246, 300, 696, 1018, 543, 148, 376, 717, 589, 573, 351, 312, 1006, 219, 150, 695, 2, 258, 433, 631, 766, 905, 701, 850, 297, 123, 500, 58, 293, 488, 802]\n",
      "((697,300),(246,850)) =209100\n",
      "((697,150),(850,123)) =104550\n",
      "((246,150),(300,123)) =36900\n",
      "((300,905),(543,500)) =271500\n"
     ]
    }
   ],
   "source": [
    "import random;\n",
    "#n is size of list\n",
    "n=50;\n",
    "#Declaring empty list\n",
    "myList=[];\n",
    "\n",
    "#Populating list with random values\n",
    "for i in range(0,n):\n",
    "    myList.append(random.randint(1,1024));\n",
    "    \n",
    "#Declaring empty list to hold unique values\n",
    "uniquelist=[];\n",
    "#Looping through list and appending unique values to uniquelist\n",
    "for i in range(0,len(myList)):\n",
    "    if myList[i] not in uniquelist:\n",
    "        uniquelist.append(myList[i]);\n",
    "\n",
    "#Setting myList to uniquelist and changing the size\n",
    "myList=uniquelist;\n",
    "n=len(myList);\n",
    "print(myList);\n",
    "\n",
    "#Creating relevant arrays to be used\n",
    "pair1=[];\n",
    "pair2=[];\n",
    "product=[];\n",
    "\n",
    "#Finding all product combinations for each pair\n",
    "#and storing them respectively\n",
    "#pair1 to hold the first number\n",
    "#pair2 to hold the second number\n",
    "#and product array to hold the product of both\n",
    "for i in range(0,n):\n",
    "    for j in range(i+1,n):\n",
    "        if myList[i]!=myList[j]:\n",
    "            pair1.append(myList[i]);\n",
    "            pair2.append(myList[j]);\n",
    "            product.append(myList[i]*myList[j])\n",
    "                \n",
    "\n",
    "#Matching the products of the first pair's with the second pair's\n",
    "#If they match and the pairs are disctint, the 2 pairs are printed\n",
    "for i in range(0,len(pair1)):\n",
    "    for j in range(i+1,len(pair1)):\n",
    "        if product[i]==product[j] and i!=j:\n",
    "            if pair1[i]!=pair1[j] and pair2[i]!=pair2[j] and pair2[i]!=pair1[j]:\n",
    "                print(\"((\"+str(pair1[i])+\",\"+str(pair2[i])+\"),(\"+str(pair1[j])+\",\"+str(pair2[j])+\")) =\"+str(product[i]))\n",
    "                "
   ]
  },
  {
   "cell_type": "code",
   "execution_count": null,
   "id": "98f7ffb1",
   "metadata": {},
   "outputs": [],
   "source": []
  },
  {
   "cell_type": "markdown",
   "id": "4dcb0eb8",
   "metadata": {},
   "source": [
    "# Question 5) ADT Stack\n",
    "Write a program that uses an ADT Stack to evaluate arithmetic expressions in RPN\n",
    "format. The contents of the stack should be displayed on the screen during evaluation.\n",
    "The allowed arithmetic operators are +, -, x, and /."
   ]
  },
  {
   "cell_type": "code",
   "execution_count": 31,
   "id": "6330e567",
   "metadata": {},
   "outputs": [
    {
     "name": "stdout",
     "output_type": "stream",
     "text": [
      "Enter Arithmetic expression: 4 2 3 5 1 - + * +\n",
      "['4']\n",
      "['4', '2']\n",
      "['4', '2', '3']\n",
      "['4', '2', '3', '5']\n",
      "['4', '2', '3', '5', '1']\n",
      "['4', '2', '3', 4]\n",
      "['4', '2', 7]\n",
      "['4', 14]\n",
      "[18]\n"
     ]
    }
   ],
   "source": [
    "#word in RPN which is to be evaluated\n",
    "word=\"4 2 3 5 1 - + * + \";\n",
    "word=input(\"Enter Arithmetic expression: \")+\" \"\n",
    "#Declaration of stack and token\n",
    "stack=[];\n",
    "token=\"\";\n",
    "\n",
    "#Looping through all characters in word \n",
    "for i in range(0,len(word)):\n",
    "        #' ' is used as a Delimeter\n",
    "        if word[i]==' ':\n",
    "            #Executing respective if statements based on token contents\n",
    "            if token=='x'or token=='*':\n",
    "                temp1=int(stack.pop());\n",
    "                temp2=int(stack.pop());\n",
    "                stack.append(temp2*temp1);\n",
    "                print(stack);\n",
    "            elif token=='+':\n",
    "                temp1=int(stack.pop());\n",
    "                temp2=int(stack.pop());\n",
    "                stack.append(temp2+temp1);\n",
    "                print(stack);\n",
    "            elif token=='/':\n",
    "                temp1=int(stack.pop());\n",
    "                temp2=int(stack.pop());\n",
    "                stack.append(temp2/temp1);\n",
    "                print(stack);\n",
    "            elif token=='-':\n",
    "                temp1=int(stack.pop());\n",
    "                temp2=int(stack.pop());\n",
    "                stack.append(temp2-temp1);\n",
    "                print(stack);\n",
    "            else:\n",
    "                #Since the token is not an operator it will resort to add the operand\n",
    "                #to the stack\n",
    "                stack.append(token);\n",
    "                print(stack);\n",
    "            #Resetting token\n",
    "            token=\"\";\n",
    "        else:\n",
    "            #Adding current character to the token until a ' ' is found\n",
    "            token=token+word[i];"
   ]
  },
  {
   "cell_type": "code",
   "execution_count": null,
   "id": "3f7c7f0a",
   "metadata": {},
   "outputs": [],
   "source": []
  },
  {
   "cell_type": "markdown",
   "id": "3804948b",
   "metadata": {},
   "source": [
    "# Question 6) Number is prime\n",
    "Write a Boolean function that checks if a number is prime. Also implement the Sieve of\n",
    "Eratosthenes algorithm. Explain any optimizations made."
   ]
  },
  {
   "cell_type": "code",
   "execution_count": 17,
   "id": "9d36c430",
   "metadata": {},
   "outputs": [
    {
     "name": "stdout",
     "output_type": "stream",
     "text": [
      "Input number\n",
      "5\n",
      "Number is Prime number\n"
     ]
    }
   ],
   "source": [
    "#Method that checks if number is prime\n",
    "def Prime(number):\n",
    "    #1 is not a prime number, thus, false is returned\n",
    "    if number<=1:\n",
    "        return False;\n",
    "    #Dividing the number by all the other numbers which are smaller\n",
    "    for i in range(2,number-1):\n",
    "        #If remainder is 0 then number is not prime thus, false is returned\n",
    "        if((number%i)==0):\n",
    "            return False;\n",
    "    #Number is prime thus, true is returned\n",
    "    return True;\n",
    "\n",
    "\n",
    "#Testing:\n",
    "number = int(input(\"Input number\\n\"));\n",
    "check=Prime(number);\n",
    "\n",
    "#Relevant print statements based on boolean function return\n",
    "if(check==True):\n",
    "    print(\"Number is Prime number\");\n",
    "else:\n",
    "    print(\"Number is not a Prime number\");\n"
   ]
  },
  {
   "cell_type": "code",
   "execution_count": 20,
   "id": "59cf9f40",
   "metadata": {},
   "outputs": [
    {
     "name": "stdout",
     "output_type": "stream",
     "text": [
      "[2, 3, 5, 7, 11, 13, 17, 19, 23, 29, 31, 37, 41, 43, 47, 53, 59, 61, 67, 71, 73, 79, 83, 89, 97, 101]\n"
     ]
    }
   ],
   "source": [
    "import math;\n",
    "\n",
    "#n is the maximum value to check\n",
    "n=102;\n",
    "#Error Checking\n",
    "if n>0 and n<2:\n",
    "    print(\"no prime numbers\");\n",
    "elif n>0:\n",
    "    #Creating a list with odd numbers and including number 2\n",
    "    myList=list(range(3,n,2));\n",
    "    myList.insert(0,2);\n",
    "\n",
    "    #i is being used as a divisor. Looping from 3 since, all the even values were removed \n",
    "    #till math.sqrt(n)+1. It is looping till math.sqrt(n)+1 since,\n",
    "    #all the factors preceeding the square root would be removed \n",
    "    for i in range(3,int(math.sqrt(n)+1)):\n",
    "        #j is being used as an index to myList\n",
    "        for j in range(i,len(myList)):\n",
    "            #if myList[j] has a remainder then it is set to 0 to indicate absence\n",
    "            if myList[j]%i==0:\n",
    "                myList[j]=0;\n",
    "\n",
    "\n",
    "    #Removing 0's from list\n",
    "    myList=[i for i in myList if i!=0];\n",
    "    print(myList);\n",
    "else:\n",
    "    print(\"n must be larger than 0\");"
   ]
  },
  {
   "cell_type": "code",
   "execution_count": 19,
   "id": "364e7798",
   "metadata": {},
   "outputs": [],
   "source": [
    "#Optimizations:\n",
    "#1.Prior to applying the Sieve of Eratosthenes algorithm, as an optimization all the even numbers were removed except for 2. \n",
    "#2.The outer for loop will loop from index 3 until the (square root of n)+1 ,  since all the factors would have been removed till the (square root of n)+1, and thus, removing excess iterations. \n"
   ]
  },
  {
   "cell_type": "code",
   "execution_count": null,
   "id": "0d509f21",
   "metadata": {},
   "outputs": [],
   "source": []
  },
  {
   "cell_type": "markdown",
   "id": "d9e64aaf",
   "metadata": {},
   "source": [
    "# Question 7) Binary Search Tree\n",
    "Write a program that accepts as input a random sequence of integers (one by one) and\n",
    "then incrementally builds, and displays, a Binary Search Tree (BST). There is no\n",
    "need to balance the BST."
   ]
  },
  {
   "cell_type": "code",
   "execution_count": 20,
   "id": "06fd1c7a",
   "metadata": {},
   "outputs": [],
   "source": [
    "#Creating an object to fit the specifications of a BST where: \n",
    "#1.node is the integer\n",
    "#2.left is the pointer pointing to the left subtree\n",
    "#3.right is the pointer pointing to the right subtree\n",
    "class element(object):\n",
    "    node=None;\n",
    "    left = None;\n",
    "    right = None;\n",
    "\n",
    "\n",
    "#Method to add an item to the BST\n",
    "def AddItem(value,tree,pointer,position):\n",
    "    #Checking if list is empty\n",
    "    if not tree:\n",
    "        #Adding the root:\n",
    "        newnode=element();\n",
    "        newnode.node=value;\n",
    "        tree.append(newnode);\n",
    "        return;\n",
    "    \n",
    "    #if value is smaller or equal to current node\n",
    "    if value<=tree[pointer].node:\n",
    "        #if the left pointer is null it will attempt to add the\n",
    "        #new node to the list (Base Case)\n",
    "        if tree[pointer].left==None:\n",
    "            tree[pointer].left=position;\n",
    "            newnode=element();\n",
    "            newnode.node=value;\n",
    "            tree.append(newnode);\n",
    "            \n",
    "        #else it will traverse the left subtree (Recursive Case)\n",
    "        else:    \n",
    "            AddItem(value,tree,tree[pointer].left,position);\n",
    "            \n",
    "    #if value is larger than current node        \n",
    "    elif value>tree[pointer].node:\n",
    "        #if the right pointer is null it will attempt to add the\n",
    "        #new node to the list (Base Case)\n",
    "        if tree[pointer].right==None:\n",
    "            tree[pointer].right=position;\n",
    "            newnode=element();\n",
    "            newnode.node=value;\n",
    "            tree.append(newnode);\n",
    "            \n",
    "        #else it will traverse the right subtree (Recursive Case)\n",
    "        else:    \n",
    "            AddItem(value,tree,tree[pointer].right,position);\n",
    "    "
   ]
  },
  {
   "cell_type": "code",
   "execution_count": 21,
   "id": "c30a4226",
   "metadata": {},
   "outputs": [],
   "source": [
    "#Method to Display tree\n",
    "def DisplayTree(tree,pointer):\n",
    "        #Printing current node information\n",
    "        output=\"\\nPointer: \"+str(pointer)+\"\\t value: \"+str(tree[pointer].node);\n",
    "        if tree[pointer].left==None:\n",
    "            output=output+\"\\t left value: None\";\n",
    "        else:\n",
    "            output=output+\"\\t left value: \"+str(tree[tree[pointer].left].node)+\"\\t\";\n",
    "                  \n",
    "        if tree[pointer].right==None:\n",
    "            output=output+\"\\t right value: None\";\n",
    "        else:\n",
    "            output=output+\"\\t right value: \"+str(tree[tree[pointer].right].node);   \n",
    "        print(output);\n",
    "        \n",
    "        #Traversing left subtree\n",
    "        if tree[pointer].left!=None:\n",
    "            DisplayTree(tree,tree[pointer].left);\n",
    "        \n",
    "        #Traversing right subtree\n",
    "        if tree[pointer].right!=None:\n",
    "            DisplayTree(tree,tree[pointer].right);"
   ]
  },
  {
   "cell_type": "code",
   "execution_count": 22,
   "id": "e8fec328",
   "metadata": {
    "scrolled": true
   },
   "outputs": [
    {
     "name": "stdout",
     "output_type": "stream",
     "text": [
      "Enter how many values will be inputted: 5\n",
      "Enter number: 14\n",
      "Enter number: 27\n",
      "Enter number: 32\n",
      "Enter number: 43\n",
      "Enter number: 53\n",
      "\n",
      "Pointer: 0\t value: 4\t left value: 2\t\t right value: 7\n",
      "\n",
      "Pointer: 2\t value: 2\t left value: None\t right value: 3\n",
      "\n",
      "Pointer: 3\t value: 3\t left value: 3\t\t right value: None\n",
      "\n",
      "Pointer: 4\t value: 3\t left value: None\t right value: None\n",
      "\n",
      "Pointer: 1\t value: 7\t left value: None\t right value: None\n"
     ]
    }
   ],
   "source": [
    "#Asking the user how many values will be inputted\n",
    "iterations=int(input(\"Enter how many values will be inputted: \"));\n",
    "uinput=0;\n",
    "#Declaring empty tree structure\n",
    "tree=[];\n",
    "\n",
    "#User inputting integers and adding said values to tree\n",
    "for i in range(0,iterations):\n",
    "        uinput=int(input(\"Enter number: \"+str(i+1)));\n",
    "        AddItem(uinput,tree,0,i);#pointer set to 0 since always need to start traversing from root\n",
    "        \n",
    "#Displaying tree\n",
    "DisplayTree(tree,0);"
   ]
  },
  {
   "cell_type": "code",
   "execution_count": null,
   "id": "87963c99",
   "metadata": {},
   "outputs": [],
   "source": []
  },
  {
   "cell_type": "markdown",
   "id": "40c06481",
   "metadata": {},
   "source": [
    "# Question 8) Newton Raphson Square Root Method\n",
    "Write a program that finds an approximation to the square root of a given number n\n",
    "using an iterative numerical method such as the Newton-Raphson Method."
   ]
  },
  {
   "cell_type": "code",
   "execution_count": 1,
   "id": "99b8db75",
   "metadata": {},
   "outputs": [
    {
     "name": "stdout",
     "output_type": "stream",
     "text": [
      "Approximation: 0\n",
      "Iterations: 0\n"
     ]
    }
   ],
   "source": [
    "import math\n",
    "\n",
    "#Declaring counter to hold the number of iterations\n",
    "counter=0;\n",
    "#n is number\n",
    "n=777;\n",
    "#root being used for checking\n",
    "root=n;\n",
    "#approx used to hold the final approximation\n",
    "approx=0;\n",
    "\n",
    "#Looping until the root != the square root of n\n",
    "while root!=math.sqrt(n) :\n",
    "    if root!=math.sqrt(n) :\n",
    "        approx=root;#Setting the approx to root\n",
    "    #Performing calculation method\n",
    "    root=(root+n/root)/2;\n",
    "    #Incrementing counter\n",
    "    counter=counter+1;\n",
    "\n",
    "print(\"Approximation: \"+str(approx));\n",
    "print(\"Iterations: \"+str(counter));"
   ]
  },
  {
   "cell_type": "code",
   "execution_count": null,
   "id": "a8675157",
   "metadata": {},
   "outputs": [],
   "source": []
  },
  {
   "cell_type": "markdown",
   "id": "b95e7685",
   "metadata": {},
   "source": [
    "# Question 9) Repeated integers\n",
    "Write a program that, given an array of integers, finds all integers in the array that are\n",
    "repeated more than once. Try to find a fast and memory-efficient way of doing this."
   ]
  },
  {
   "cell_type": "code",
   "execution_count": 24,
   "id": "c8b772ec",
   "metadata": {},
   "outputs": [
    {
     "name": "stdout",
     "output_type": "stream",
     "text": [
      "Unsorted array\n",
      "[665, 643, 357, 486, 290, 758, 6, 398, 250, 65, 786, 636, 791, 338, 481, 760, 865, 614, 173, 399, 310, 521, 373, 66, 902, 54, 143, 383, 390, 795, 986, 335, 267, 144, 447, 648, 882, 539, 829, 536, 138, 820, 165, 661, 619, 800, 768, 368, 435, 815, 39, 460, 758, 890, 508, 605, 416, 793, 309, 724, 997, 994, 840, 385, 1014, 906, 311, 5, 783, 697, 283, 858, 38, 608, 920, 200, 398, 49, 717, 934, 879, 173, 301, 873, 990, 145, 578, 757, 382, 753, 262, 107, 240, 648, 612, 59, 66, 849, 190, 81]\n",
      "\n",
      "Sorted array\n",
      "[5, 6, 38, 39, 49, 54, 59, 65, 66, 66, 81, 107, 138, 143, 144, 145, 165, 173, 173, 190, 200, 240, 250, 262, 267, 283, 290, 301, 309, 310, 311, 335, 338, 357, 368, 373, 382, 383, 385, 390, 398, 398, 399, 416, 435, 447, 460, 481, 486, 508, 521, 536, 539, 578, 605, 608, 612, 614, 619, 636, 643, 648, 648, 661, 665, 697, 717, 724, 753, 757, 758, 758, 760, 768, 783, 786, 791, 793, 795, 800, 815, 820, 829, 840, 849, 858, 865, 873, 879, 882, 890, 902, 906, 920, 934, 986, 990, 994, 997, 1014]\n",
      "66 is a repeated integer\n",
      "173 is a repeated integer\n",
      "398 is a repeated integer\n",
      "648 is a repeated integer\n",
      "758 is a repeated integer\n"
     ]
    }
   ],
   "source": [
    "#Declaring an empty array and filling said array with random values\n",
    "array=[];\n",
    "for i in range(0,100):\n",
    "    array.append(random.randint(0,1024));\n",
    "print(\"Unsorted array\");\n",
    "print(array);\n",
    "\n",
    "#Sorting the array via QuickSort from Question 1) since worst case is nlog(n)\n",
    "QuickSort(array,0,len(array)-1)\n",
    "print(\"\\nSorted array\");\n",
    "print(array)\n",
    "\n",
    "counter=0;#Variable used to avoid printing repeated number twice\n",
    "\n",
    "#Finding the repeated integers\n",
    "#Looping through all the elements in the array\n",
    "for i in range(0,len(array)-1):\n",
    "    #Checking whether the current element and the next element are the same,\n",
    "    #and that the number was not already printed\n",
    "    if array[i]==array[i+1] and counter==0:\n",
    "        print(str(array[i])+\" is a repeated integer\")\n",
    "        #Incrementing counter\n",
    "        counter=counter+1;\n",
    "    else:\n",
    "        #Setting counter to 0\n",
    "        counter=0;"
   ]
  },
  {
   "cell_type": "code",
   "execution_count": null,
   "id": "f4b1f5da",
   "metadata": {},
   "outputs": [],
   "source": []
  },
  {
   "cell_type": "markdown",
   "id": "79bd96a7",
   "metadata": {},
   "source": [
    "# Question 10) Largest number in a list of integers\n",
    "Write a recursive function that finds the largest number in a given list of integers."
   ]
  },
  {
   "cell_type": "code",
   "execution_count": 25,
   "id": "2a21c98d",
   "metadata": {},
   "outputs": [],
   "source": [
    "#Parameters include List, largest element and counter to hold the index of the current element\n",
    "def Largest(mylist,max,counter):\n",
    "    #Base Case\n",
    "    if counter==-1 :\n",
    "        return max;\n",
    "    #Recursive Case\n",
    "    else :\n",
    "        #if the max is smaller than current element\n",
    "        #then max is set to be the current element\n",
    "        if max<mylist[counter]:\n",
    "            max=mylist[counter];\n",
    "        #Calling recursive case and decrementing counter(index)\n",
    "        return Largest(mylist,max,counter-1);"
   ]
  },
  {
   "cell_type": "code",
   "execution_count": 26,
   "id": "2aadd487",
   "metadata": {},
   "outputs": [
    {
     "name": "stdout",
     "output_type": "stream",
     "text": [
      "[373, 934, 163, 979, 837, 749, 778, 447, 646, 850, 478, 329, 127, 914, 516, 218, 484, 814, 515, 850, 979, 866, 33, 259, 889, 496, 146, 287, 782, 891, 347, 661, 384, 854, 635, 342, 347, 897, 347, 442, 642, 922, 307, 482, 640, 313, 840, 395, 103, 33, 406, 684, 736, 711, 751, 464, 365, 627, 725, 391, 491, 389, 214, 329, 735, 741, 840, 665, 597, 604, 577, 972, 620, 869, 134, 897, 163, 371, 347, 969, 595, 923, 339, 723, 503, 941, 640, 480, 107, 842, 287, 785, 349, 353, 852, 610, 349, 426, 640, 485]\n",
      "\n",
      "The largest number in list is:\n",
      "979\n"
     ]
    }
   ],
   "source": [
    "mylist=[];\n",
    "#Populating list with random values\n",
    "for i in range(0,100):\n",
    "    mylist.append(random.randint(1,1024));\n",
    "print(mylist);\n",
    "print(\"\\nThe largest number in list is:\")\n",
    "print(Largest(mylist,0,len(mylist)-1));"
   ]
  },
  {
   "cell_type": "code",
   "execution_count": null,
   "id": "1e61de60",
   "metadata": {},
   "outputs": [],
   "source": []
  },
  {
   "cell_type": "markdown",
   "id": "aa0e001d",
   "metadata": {},
   "source": [
    "# Question 11) Maclaurin of Sine\n",
    "Write a function that computes cosine or sine by taking the first n terms of the\n",
    "appropriate (Maclaurin?) series expansion."
   ]
  },
  {
   "cell_type": "code",
   "execution_count": 27,
   "id": "21166e63",
   "metadata": {},
   "outputs": [],
   "source": [
    "#Method factorial which will be used in calculation\n",
    "def factorial(n):\n",
    "    #Base Case\n",
    "    if n==0:\n",
    "        return 1;\n",
    "    #Recursive Case\n",
    "    else :\n",
    "        return n*factorial(n-1);"
   ]
  },
  {
   "cell_type": "code",
   "execution_count": 28,
   "id": "5286ceb5",
   "metadata": {},
   "outputs": [
    {
     "name": "stdout",
     "output_type": "stream",
     "text": [
      "The input is 1.5707\n",
      "The approximation is 0.9999999960227458\n"
     ]
    }
   ],
   "source": [
    "#n is the number of iterations\n",
    "n=7;\n",
    "#Input needs to be in radians\n",
    "x=1.5707;\n",
    "#Declaring variable ans\n",
    "ans=0;\n",
    "\n",
    "for i in range(0,n):\n",
    "    #Performing Calculation\n",
    "    numerator=(x**(2*i+1));\n",
    "    denominator=factorial(2*i+1);\n",
    "    ans=ans+((-1)**i)*(numerator/denominator);\n",
    "\n",
    "print(\"The input is \"+str(x));\n",
    "print(\"The approximation is \"+str(ans));"
   ]
  },
  {
   "cell_type": "code",
   "execution_count": null,
   "id": "1a851b07",
   "metadata": {},
   "outputs": [],
   "source": []
  },
  {
   "cell_type": "markdown",
   "id": "9a26c2a3",
   "metadata": {},
   "source": [
    "# Question 12) Fibonacci sequence\n",
    "Write a function that returns the sum of the first n numbers of the Fibonacci sequence\n",
    "(Wikipedia). The first 2 numbers in the sequence are 1,1, …"
   ]
  },
  {
   "cell_type": "code",
   "execution_count": 29,
   "id": "64c6697d",
   "metadata": {},
   "outputs": [],
   "source": [
    "def Fibonacci(n):\n",
    "    #Declaring and initialising variables:\n",
    "    \n",
    "    returnsum=0;#Variable to hold the sum of n numbers\n",
    "    sum=0;#Temporary variable to perform addition of num1 and num2\n",
    "    num1=1;#num1 to hold the first term in sequence\n",
    "    num2=1;#num2 to hold the second term in sequence\n",
    "    count=0;#Counter to be used for looping\n",
    "    \n",
    "    #Looping if count<n\n",
    "    while count<n :\n",
    "        #Adding the contents of num1 to returnsum\n",
    "        returnsum=returnsum+num1;\n",
    "        \n",
    "        #Finding the next term in the Fibonacci Sequence and incrementing count\n",
    "        sum=num1+num2;\n",
    "        num1=num2;\n",
    "        num2=sum;\n",
    "        count=count+1;\n",
    "    \n",
    "    #Returning the sum of n numbers\n",
    "    return returnsum;"
   ]
  },
  {
   "cell_type": "code",
   "execution_count": 30,
   "id": "6e23f797",
   "metadata": {},
   "outputs": [
    {
     "name": "stdout",
     "output_type": "stream",
     "text": [
      "Please input n\n",
      "4\n",
      "\n",
      "The sum of the first 4 numbers in the Fibonacci sequence is 7\n"
     ]
    }
   ],
   "source": [
    "count=int(input(\"Please input n\\n\"))\n",
    "print(\"\\nThe sum of the first \"+str(count)+\" numbers in the Fibonacci sequence is \"+str(Fibonacci(count)));"
   ]
  },
  {
   "cell_type": "code",
   "execution_count": null,
   "id": "4fd8d613",
   "metadata": {},
   "outputs": [],
   "source": []
  },
  {
   "cell_type": "code",
   "execution_count": null,
   "id": "ec8d2fb7",
   "metadata": {},
   "outputs": [],
   "source": []
  }
 ],
 "metadata": {
  "kernelspec": {
   "display_name": "Python 3",
   "language": "python",
   "name": "python3"
  },
  "language_info": {
   "codemirror_mode": {
    "name": "ipython",
    "version": 3
   },
   "file_extension": ".py",
   "mimetype": "text/x-python",
   "name": "python",
   "nbconvert_exporter": "python",
   "pygments_lexer": "ipython3",
   "version": "3.8.8"
  }
 },
 "nbformat": 4,
 "nbformat_minor": 5
}
