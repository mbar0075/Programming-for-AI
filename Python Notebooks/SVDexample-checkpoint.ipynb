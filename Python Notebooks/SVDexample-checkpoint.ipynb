{
 "cells": [
  {
   "cell_type": "markdown",
   "id": "bbdae7cc",
   "metadata": {},
   "source": [
    "# Part 1 SVD"
   ]
  },
  {
   "cell_type": "code",
   "execution_count": 1,
   "id": "eacf8865",
   "metadata": {},
   "outputs": [],
   "source": [
    "import numpy as np\n",
    "import numpy.linalg as la\n",
    "from PIL import Image\n",
    "#from sympy import Matrix"
   ]
  },
  {
   "cell_type": "code",
   "execution_count": 2,
   "id": "f48f976f",
   "metadata": {},
   "outputs": [],
   "source": [
    "#a. Convert the image “image1” into a grayscale matrix, gsFull, with values between 0 and 1."
   ]
  },
  {
   "cell_type": "code",
   "execution_count": 3,
   "id": "b24e3b60",
   "metadata": {},
   "outputs": [
    {
     "name": "stdout",
     "output_type": "stream",
     "text": [
      "[[0.61960784 0.59607843 0.54509804 ... 0.68235294 0.69411765 0.68627451]\n",
      " [0.58431373 0.56470588 0.52941176 ... 0.74117647 0.75294118 0.74117647]\n",
      " [0.61176471 0.59215686 0.56470588 ... 0.7254902  0.73333333 0.7254902 ]\n",
      " ...\n",
      " [0.62745098 0.65098039 0.66666667 ... 0.30980392 0.30588235 0.3372549 ]\n",
      " [0.67843137 0.68627451 0.68235294 ... 0.25098039 0.22745098 0.20392157]\n",
      " [0.65882353 0.68235294 0.69803922 ... 0.30196078 0.27843137 0.22745098]]\n"
     ]
    }
   ],
   "source": [
    "image1 =\"image1.jpeg\"\n",
    "\n",
    "image1=Image.open(image1)\n",
    "\n",
    "#Converting image to grayscale Matrix\n",
    "image_Gray = image1.convert('L')\n",
    "#print(image_Gray)\n",
    "image_Gray=np.array(image_Gray)\n",
    "#print(image_Gray)\n",
    "\n",
    "#Normalising\n",
    "gsFull=image_Gray/255\n",
    "print(gsFull)"
   ]
  },
  {
   "cell_type": "markdown",
   "id": "a189082e",
   "metadata": {},
   "source": []
  },
  {
   "cell_type": "code",
   "execution_count": 4,
   "id": "c6933d95",
   "metadata": {},
   "outputs": [],
   "source": [
    "#b. Apply SVD to gsFull to obtain the matrices U,E and V."
   ]
  },
  {
   "cell_type": "code",
   "execution_count": 5,
   "id": "294dc4eb",
   "metadata": {},
   "outputs": [],
   "source": [
    "U,D,VT=np.linalg.svd(gsFull)"
   ]
  },
  {
   "cell_type": "code",
   "execution_count": 6,
   "id": "be58cbef",
   "metadata": {},
   "outputs": [],
   "source": [
    "#c. Reconstruct the image using U,E and V."
   ]
  },
  {
   "cell_type": "code",
   "execution_count": 7,
   "id": "e36a791c",
   "metadata": {},
   "outputs": [],
   "source": [
    "#Getting the size of matrix\n",
    "m,n=gsFull.shape\n",
    "sigma=np.zeros((m,n))\n",
    "\n",
    "location=0\n",
    "for i in range(n):  \n",
    "        sigma[i][location]=D[i]\n",
    "        location=location+1\n",
    "\n",
    "newmatrix = (U@sigma@VT)\n",
    "#print(newmatrix)\n",
    "#Reconstructing image, scaling by 255 since divide by 255 beforehand\n",
    "newimage=Image.fromarray((newmatrix*255))\n",
    "#To display the image"
   ]
  },
  {
   "cell_type": "code",
   "execution_count": null,
   "id": "15510b1b",
   "metadata": {},
   "outputs": [],
   "source": []
  },
  {
   "cell_type": "markdown",
   "id": "5157df86",
   "metadata": {},
   "source": [
    "# Part 2 Matrix approximation"
   ]
  },
  {
   "cell_type": "code",
   "execution_count": 8,
   "id": "f65f886b",
   "metadata": {},
   "outputs": [],
   "source": [
    "#d. Using SVD construct a new matrix gsApprox which is a rank 20 approximation of\n",
    "#gsFull. Display the approximated image"
   ]
  },
  {
   "cell_type": "code",
   "execution_count": 9,
   "id": "b4e835f4",
   "metadata": {},
   "outputs": [],
   "source": [
    "rank =20\n",
    "#\n",
    "newU= U[0:m,0:rank]\n",
    "newsigma= sigma[0:rank,0:rank]\n",
    "newVT= VT[0:rank,0:n]\n",
    "gsApprox = (newU@newsigma@newVT)\n",
    "Approx=Image.fromarray(gsApprox*255)\n",
    "Approx.show()"
   ]
  },
  {
   "cell_type": "code",
   "execution_count": 10,
   "id": "96f284c4",
   "metadata": {},
   "outputs": [],
   "source": [
    "#e. What is the difference between the original and approximated image? Hint: Work\n",
    "#out the norm of the difference between the original and approximated matrix"
   ]
  },
  {
   "cell_type": "code",
   "execution_count": 11,
   "id": "76b5e480",
   "metadata": {},
   "outputs": [
    {
     "name": "stdout",
     "output_type": "stream",
     "text": [
      "7.531502612356413\n"
     ]
    }
   ],
   "source": [
    "norm=la.norm(newmatrix-gsApprox,2)\n",
    "print(norm)"
   ]
  },
  {
   "cell_type": "code",
   "execution_count": 12,
   "id": "d6022556",
   "metadata": {},
   "outputs": [],
   "source": [
    "#f. How many elements (numbers) are required to represent the rank 20 matrix, in\n",
    "#proportion to the elements used in the original matrix? Give your answer as a\n",
    "#percentage."
   ]
  },
  {
   "cell_type": "code",
   "execution_count": 13,
   "id": "23907a2b",
   "metadata": {},
   "outputs": [
    {
     "name": "stdout",
     "output_type": "stream",
     "text": [
      "4.157919190528634\n"
     ]
    }
   ],
   "source": [
    "noofelemoldm=m*n\n",
    "noofelemnewm=m*rank+rank+rank*n\n",
    "percentage=noofelemnewm/noofelemoldm\n",
    "percentage=percentage*100\n",
    "print(percentage)"
   ]
  },
  {
   "cell_type": "code",
   "execution_count": 14,
   "id": "565ab1b5",
   "metadata": {},
   "outputs": [],
   "source": [
    "#g. At what rank does the approximation matrix require more elements than the original\n",
    "#matrix?"
   ]
  },
  {
   "cell_type": "code",
   "execution_count": 15,
   "id": "89914128",
   "metadata": {},
   "outputs": [
    {
     "name": "stdout",
     "output_type": "stream",
     "text": [
      "482\n"
     ]
    }
   ],
   "source": [
    "originalmatrixspace=m*n\n",
    "newmatrixspace=0\n",
    "rank2=0\n",
    "\n",
    "while(originalmatrixspace>newmatrixspace):\n",
    "        newmatrixspace=m*rank2+rank+rank2*n\n",
    "        rank2=rank2+1\n",
    "\n",
    "rank2=rank2-1\n",
    "print(rank2)"
   ]
  },
  {
   "cell_type": "code",
   "execution_count": null,
   "id": "82ecdbc7",
   "metadata": {},
   "outputs": [],
   "source": []
  },
  {
   "cell_type": "markdown",
   "id": "1e7662e3",
   "metadata": {},
   "source": [
    "# Part 3"
   ]
  },
  {
   "cell_type": "code",
   "execution_count": 16,
   "id": "a2a8be5f",
   "metadata": {},
   "outputs": [],
   "source": [
    "#h. Write a function called approx_im that converts original images into low rank\n",
    "#approximations."
   ]
  },
  {
   "cell_type": "code",
   "execution_count": 17,
   "id": "1d0a1653",
   "metadata": {},
   "outputs": [],
   "source": [
    "def approx_im(Matrix,Rank,Divisor):\n",
    "    #Getting low approximate image\n",
    "    U1,D1,VT1=np.linalg.svd(Matrix)\n",
    "    M,N=Matrix.shape\n",
    "    \n",
    "    sigma1=np.zeros((M,N))\n",
    "    if(M>N):#For Portrait images\n",
    "        location=0\n",
    "        for i in range(N):  \n",
    "                sigma1[i][location]=D1[i]\n",
    "                location=location+1\n",
    "    else:#For landscape images\n",
    "        location=0\n",
    "        for i in range(M):  \n",
    "            sigma1[location][i]=D1[i]\n",
    "            location=location+1\n",
    "            \n",
    "    newU1= U1[0:M,0:Rank]\n",
    "    newsigma1= sigma1[0:Rank,0:Rank]\n",
    "    newVT1= VT1[0:Rank,0:N]\n",
    "    gsApprox1 = (newU1@newsigma1@newVT1)\n",
    "    Approx=Image.fromarray(gsApprox1*Divisor)\n",
    "    Approx.show()\n",
    "    \n",
    "    #Measure of quality of approximated matrix\n",
    "    newnorm=la.norm(Matrix-gsApprox1,2)\n",
    "    print(\"Measure of quality of approximated matrix\")\n",
    "    print(newnorm)\n",
    "    \n",
    "    #Percentage storage improvement\n",
    "    noofelemoldm=M*N\n",
    "    noofelemnewm=M*Rank+Rank+Rank*N\n",
    "    percentage=noofelemnewm/noofelemoldm\n",
    "    percentage=percentage*100\n",
    "    print(\"Percentage storage improvement\")\n",
    "    print(percentage)"
   ]
  },
  {
   "cell_type": "code",
   "execution_count": 20,
   "id": "1b95684b",
   "metadata": {},
   "outputs": [
    {
     "name": "stdout",
     "output_type": "stream",
     "text": [
      "Measure of quality of approximated matrix\n",
      "0.034438917287270554\n",
      "Percentage storage improvement\n",
      "105.67414375301496\n"
     ]
    }
   ],
   "source": [
    "imagetemp =\"StPhilip.jpg\"\n",
    "Rank=500\n",
    "imagetemp=Image.open(imagetemp)\n",
    "\n",
    "#Converting image to grayscale Matrix\n",
    "imagetempgray = imagetemp.convert('L')\n",
    "#print(image_Gray)\n",
    "imagetempgray=np.array(imagetempgray)\n",
    "#Normalising\n",
    "divisor=imagetempgray.max()\n",
    "imagetempgray=imagetempgray/divisor\n",
    "approx_im(imagetempgray,Rank,divisor)"
   ]
  },
  {
   "cell_type": "code",
   "execution_count": null,
   "id": "665bcf3c",
   "metadata": {},
   "outputs": [],
   "source": []
  }
 ],
 "metadata": {
  "interpreter": {
   "hash": "f08154012ddadd8e950e6e9e035c7a7b32c136e7647e9b7c77e02eb723a8bedb"
  },
  "kernelspec": {
   "display_name": "Python 3",
   "language": "python",
   "name": "python3"
  },
  "language_info": {
   "codemirror_mode": {
    "name": "ipython",
    "version": 3
   },
   "file_extension": ".py",
   "mimetype": "text/x-python",
   "name": "python",
   "nbconvert_exporter": "python",
   "pygments_lexer": "ipython3",
   "version": "3.8.8"
  }
 },
 "nbformat": 4,
 "nbformat_minor": 5
}
