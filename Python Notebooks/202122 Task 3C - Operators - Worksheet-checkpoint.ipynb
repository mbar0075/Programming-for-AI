{
 "cells": [
  {
   "cell_type": "markdown",
   "metadata": {},
   "source": [
    "# Useful Operators\n",
    "\n",
    "https://forms.gle/WopnvNJQkQ1qfn9j8\n",
    "\n",
    "There are a few built-in functions and \"operators\" in Python that don't fit well into any category, so we will go over them in this lecture, let's begin!"
   ]
  },
  {
   "cell_type": "markdown",
   "metadata": {},
   "source": [
    "## range\n",
    "\n",
    "The <code>range</code> function allows you to quickly *generate* a list of integers, this comes in handy a lot, so take note of how to use it! There are 3 parameters you can pass, a start, a stop, and a step size. Try out a few range statements:"
   ]
  },
  {
   "cell_type": "code",
   "execution_count": 1,
   "metadata": {},
   "outputs": [
    {
     "name": "stdout",
     "output_type": "stream",
     "text": [
      "0\n",
      "1\n",
      "2\n",
      "3\n",
      "4\n",
      "5\n",
      "6\n",
      "7\n",
      "8\n",
      "9\n"
     ]
    }
   ],
   "source": [
    "for i in range(10):\n",
    "    print(i)"
   ]
  },
  {
   "cell_type": "code",
   "execution_count": 2,
   "metadata": {},
   "outputs": [
    {
     "name": "stdout",
     "output_type": "stream",
     "text": [
      "5\n",
      "6\n",
      "7\n",
      "8\n",
      "9\n"
     ]
    }
   ],
   "source": [
    "for i in range(5,10):\n",
    "    print(i)"
   ]
  },
  {
   "cell_type": "code",
   "execution_count": 3,
   "metadata": {},
   "outputs": [
    {
     "name": "stdout",
     "output_type": "stream",
     "text": [
      "1\n",
      "3\n",
      "5\n",
      "7\n",
      "9\n"
     ]
    }
   ],
   "source": [
    "for i in range(1,10,2):\n",
    "    print(i)"
   ]
  },
  {
   "cell_type": "markdown",
   "metadata": {},
   "source": [
    "Note that this is a <code>generator</code> function, so to actually get a list out of it, we need to cast it to a list with <code>list()</code>. \n",
    "\n",
    "What is a __generator__? Its a special type of function that will generate information without necessarily saving it to memory. We haven't talked about functions or generators yet, so just keep this in your notes for now, we will discuss this in much more detail in later on!"
   ]
  },
  {
   "cell_type": "code",
   "execution_count": null,
   "metadata": {},
   "outputs": [],
   "source": []
  },
  {
   "cell_type": "code",
   "execution_count": null,
   "metadata": {},
   "outputs": [],
   "source": []
  },
  {
   "cell_type": "markdown",
   "metadata": {},
   "source": [
    "### Q1:\n",
    "Modify the code\n",
    "```python\n",
    "list(range(0,12))\n",
    "```\n",
    "to include a third parameter - the step size. Use a step size of 2. Note whether you get even or odd numbers, understand where the range is starting and where it ends."
   ]
  },
  {
   "cell_type": "code",
   "execution_count": 3,
   "metadata": {},
   "outputs": [
    {
     "data": {
      "text/plain": [
       "[0, 2, 4, 6, 8, 10]"
      ]
     },
     "execution_count": 3,
     "metadata": {},
     "output_type": "execute_result"
    }
   ],
   "source": [
    "list(range(0,12,2))"
   ]
  },
  {
   "cell_type": "markdown",
   "metadata": {},
   "source": [
    "### Q2:\n",
    "Create a range that will produce this list:\n",
    "\n",
    "    [0, 10, 20, 30, 40, 50, 60, 70, 80, 90, 100]"
   ]
  },
  {
   "cell_type": "code",
   "execution_count": 5,
   "metadata": {},
   "outputs": [
    {
     "data": {
      "text/plain": [
       "[0, 10, 20, 30, 40, 50, 60, 70, 80, 90, 100]"
      ]
     },
     "execution_count": 5,
     "metadata": {},
     "output_type": "execute_result"
    }
   ],
   "source": [
    "list(range(0,110,10))"
   ]
  },
  {
   "cell_type": "markdown",
   "metadata": {},
   "source": [
    "## enumerate\n",
    "\n",
    "<code>enumerate</code> is a very useful function to use with for loops. Let's imagine the following code:\n",
    "\n",
    "```python\n",
    "index_count = 0\n",
    "\n",
    "for letter in 'abcde':\n",
    "    print(\"At index {} the letter is {}\".format(index_count,letter))\n",
    "    index_count += 1\n",
    "```\n",
    "\n",
    "producing the output:\n",
    "\n",
    "    At index 0 the letter is a\n",
    "    At index 1 the letter is b\n",
    "    At index 2 the letter is c\n",
    "    At index 3 the letter is d\n",
    "    At index 4 the letter is e"
   ]
  },
  {
   "cell_type": "markdown",
   "metadata": {},
   "source": [
    "Keeping track of how many loops you've gone through is so common, that <code>enumerate</code> was created so you don't need to worry about creating and updating this <code>index_count</code> or <code>loop_count</code> variable.\n",
    "\n",
    "Whenever you need to traverse the elements of a sequence and their indices, you can use the built-in function <code>enumerate</code>:\n",
    "\n",
    "    for index, element in enumerate('abc'):\n",
    "        print(index, element)\n",
    "        \n",
    "The result from <code>enumerate</code> is an __enumerate object__ - This object provides _two_ things - the index (starting from 0) and the element at that index from the given sequence. In the above example, the output is\n",
    "\n",
    "    0 a\n",
    "    1 b\n",
    "    2 c\n",
    "\n",
    "Notice that in the <code>for</code> loop there is ***tuple unpacking*** with the <code>index, element</code> part.  \n",
    "\n",
    "### Q3\n",
    "Convert the following code:\n",
    "```python\n",
    "    for letter in 'abcde':\n",
    "        print(\"At index {} the letter is {}\".format(index_count,letter))\n",
    "        index_count += 1\n",
    "```\n",
    "and use the <code>enumerate</code> function instead."
   ]
  },
  {
   "cell_type": "code",
   "execution_count": 6,
   "metadata": {},
   "outputs": [
    {
     "name": "stdout",
     "output_type": "stream",
     "text": [
      "0 a\n",
      "1 b\n",
      "2 c\n",
      "3 d\n",
      "4 e\n"
     ]
    }
   ],
   "source": [
    "for letter,i in enumerate('abcde'):\n",
    "        print(letter,i)"
   ]
  },
  {
   "cell_type": "markdown",
   "metadata": {},
   "source": [
    "## zip\n",
    "\n",
    "We saw in the above example that <code>enumerate</code> returns a list of tuples, with each tuple containing two elements.\n",
    "\n",
    "<code>zip</code> is a built-in function that takes two or more sequences and interleaves them. The name of the function refers to a zipper, which interleaves two rows of teeth.\n",
    "This example zips a string and a list:\n",
    "```python\n",
    "s = 'abc'\n",
    "t = [0, 1, 2]\n",
    "zip(s, t)\n",
    "\n",
    "<zip object at 0x7f7d0a9e7c48>\n",
    "```\n",
    "The result is a <code>zip object</code> that knows how to iterate through the pairs. The most common use of zip is in a for loop:\n",
    "\n",
    "```python\n",
    "for pair in zip(s, t):\n",
    "    print(pair)\n",
    "        \n",
    "('a', 0)\n",
    "('b', 1)\n",
    "('c', 2)\n",
    "```\n",
    "A <code>zip object</code> is a kind of <code>iterator</code>, which is **any object that iterates through a sequence**. Iterators are similar to lists in some ways, but unlike lists, you can’t use an index to select an element from an iterator.\n",
    "\n",
    "If you want to use list operators and methods, you can use a zip object to make a list:\n",
    "```python\n",
    "list(zip(s, t))\n",
    "[('a', 0), ('b', 1), ('c', 2)]\n",
    "```\n",
    "The result is a list of tuples; in this example, each tuple contains a character from the string\n",
    "and the corresponding element from the list.\n",
    "\n",
    "### Q4:\n",
    "Try the above code to see that it works, but then try adding a few more elements to say t, e.g.: <code>t = [0, 1, 2, 3, 4]</code> - Zip s and t together. What happens?"
   ]
  },
  {
   "cell_type": "code",
   "execution_count": 7,
   "metadata": {},
   "outputs": [
    {
     "data": {
      "text/plain": [
       "[('a', 0), ('b', 1), ('c', 2)]"
      ]
     },
     "execution_count": 7,
     "metadata": {},
     "output_type": "execute_result"
    }
   ],
   "source": [
    "s = 'abc'\n",
    "t = [0, 1, 2]\n",
    "zip(s, t)\n",
    "\n",
    "list(zip(s, t))\n"
   ]
  },
  {
   "cell_type": "code",
   "execution_count": 8,
   "metadata": {},
   "outputs": [
    {
     "data": {
      "text/plain": [
       "[('a', 0), ('b', 1), ('c', 2)]"
      ]
     },
     "execution_count": 8,
     "metadata": {},
     "output_type": "execute_result"
    }
   ],
   "source": [
    "t = [0, 1, 2, 3, 4]\n",
    "zip(s, t)\n",
    "\n",
    "list(zip(s, t))"
   ]
  },
  {
   "cell_type": "markdown",
   "metadata": {},
   "source": [
    "# Q5 \n",
    "It is possible to use <code>zip</code> in combination with <code>dict</code> to create a dictionary with the following values:\n",
    "```python\n",
    "{'a': 0, 'b': 1, 'c': 2}\n",
    "```\n",
    "I am expecting this to be done with one line of code. Hint: Use also <code>range</code>."
   ]
  },
  {
   "cell_type": "code",
   "execution_count": 25,
   "metadata": {},
   "outputs": [
    {
     "data": {
      "text/plain": [
       "{'a': 0, 'b': 1, 'c': 2}"
      ]
     },
     "execution_count": 25,
     "metadata": {},
     "output_type": "execute_result"
    }
   ],
   "source": [
    "dict(zip('abc',range(0,3)))"
   ]
  },
  {
   "cell_type": "code",
   "execution_count": null,
   "metadata": {},
   "outputs": [],
   "source": []
  },
  {
   "cell_type": "markdown",
   "metadata": {},
   "source": [
    "### Q6\n",
    "\n",
    "__<code>in</code> operator__\n",
    "\n",
    "We've already seen the <code>in</code> keyword during the <code>for</code> loop, but we can also use it to quickly check if an object is in a list. Write the code to check whether 'x' is in the list ['x','y','z']"
   ]
  },
  {
   "cell_type": "code",
   "execution_count": 10,
   "metadata": {},
   "outputs": [],
   "source": [
    "list={'x','y','z'}"
   ]
  },
  {
   "cell_type": "code",
   "execution_count": 11,
   "metadata": {},
   "outputs": [
    {
     "name": "stdout",
     "output_type": "stream",
     "text": [
      "True\n"
     ]
    }
   ],
   "source": [
    "print('x' in list)"
   ]
  },
  {
   "cell_type": "markdown",
   "metadata": {},
   "source": [
    "### Q7\n",
    "\n",
    "We can combine **in** with a **not** operator, to check if some object or variable is not present in a list. Write the code to check whether 1 is not in the list ['x','y','z']"
   ]
  },
  {
   "cell_type": "code",
   "execution_count": 12,
   "metadata": {},
   "outputs": [
    {
     "name": "stdout",
     "output_type": "stream",
     "text": [
      "True\n"
     ]
    }
   ],
   "source": [
    "print('1' not in list)"
   ]
  },
  {
   "cell_type": "code",
   "execution_count": null,
   "metadata": {},
   "outputs": [],
   "source": []
  },
  {
   "cell_type": "markdown",
   "metadata": {},
   "source": [
    "### min() and max()\n",
    "\n",
    "These two functions give you a quick way to check the minimum or maximum of a **list**. Using:\n",
    "```python\n",
    "mylist = [10,20,30,40,100]\n",
    "```\n",
    "\n",
    "### Q8a\n",
    "Write the code to get the smallest number from mylist\n"
   ]
  },
  {
   "cell_type": "code",
   "execution_count": 13,
   "metadata": {},
   "outputs": [],
   "source": [
    "mylist = [10,20,30,40,100]"
   ]
  },
  {
   "cell_type": "code",
   "execution_count": 14,
   "metadata": {},
   "outputs": [
    {
     "data": {
      "text/plain": [
       "10"
      ]
     },
     "execution_count": 14,
     "metadata": {},
     "output_type": "execute_result"
    }
   ],
   "source": [
    "min(mylist)"
   ]
  },
  {
   "cell_type": "markdown",
   "metadata": {},
   "source": [
    "### Q8b\n",
    "Write the code to get the largest number from mylist"
   ]
  },
  {
   "cell_type": "code",
   "execution_count": 15,
   "metadata": {},
   "outputs": [
    {
     "data": {
      "text/plain": [
       "100"
      ]
     },
     "execution_count": 15,
     "metadata": {},
     "output_type": "execute_result"
    }
   ],
   "source": [
    "max(mylist)"
   ]
  },
  {
   "cell_type": "markdown",
   "metadata": {},
   "source": [
    "## random & import\n",
    "\n",
    "Python comes with a built in random library. So far, we have been using built in functions that did not require us to call in any library in advance. However in this case, we will need to import the library first before being able to use such functions.\n",
    "```python\n",
    "from random import shuffle\n",
    "```\n",
    "and this will enable us to use the shuffle functions:\n",
    "```python\n",
    "shuffle(mylist)\n",
    "```\n",
    "There are a lot of functions included in this random library, so we will only show you two useful functions for now.\n",
    "\n",
    "***IMPORTANT TO NOTE***: \n",
    "\n",
    "It is possible to import the full library, but in general, we simply import the functions that we will actually use. To import the full library, we would use the following:\n",
    "```python\n",
    "import random\n",
    "```    \n",
    "However, when we would want to use a specific function, we would need to write out the library as well:\n",
    "```python\n",
    "random.shuffle(mylist)\n",
    "```    \n",
    "The convention in general is to have all import statements at the top of your code. However with Jupyter notebooks this might not always be the best since you might want to run different blocks of code. In any case, keep in mind that if you are writing your python code in a script/file, your import statements should be at the top.\n",
    "\n",
    "### Q9\n",
    "\n",
    "Experiment with <code>shuffle</code> - search online, etc. Does this function return a new list? Does it modify the original list? Does it modify the elements and return a different list? "
   ]
  },
  {
   "cell_type": "code",
   "execution_count": 4,
   "metadata": {},
   "outputs": [],
   "source": [
    "mylist = [10,20,30,40,100]\n",
    "from random import shuffle"
   ]
  },
  {
   "cell_type": "code",
   "execution_count": 5,
   "metadata": {},
   "outputs": [
    {
     "name": "stdout",
     "output_type": "stream",
     "text": [
      "[10, 20, 40, 100, 30]\n",
      "[10, 20, 40, 100, 30]\n"
     ]
    }
   ],
   "source": [
    "x=mylist;\n",
    "shuffle(mylist)\n",
    "print(mylist)\n",
    "print(x)"
   ]
  },
  {
   "cell_type": "code",
   "execution_count": 6,
   "metadata": {},
   "outputs": [
    {
     "data": {
      "text/plain": [
       "[10, 20, 40, 100, 30]"
      ]
     },
     "execution_count": 6,
     "metadata": {},
     "output_type": "execute_result"
    }
   ],
   "source": [
    "mylist"
   ]
  },
  {
   "cell_type": "code",
   "execution_count": 29,
   "metadata": {},
   "outputs": [
    {
     "name": "stdout",
     "output_type": "stream",
     "text": [
      "It modifies the elements but returns the same list\n"
     ]
    }
   ],
   "source": [
    "print(\"It modifies the elements but returns the same list\")"
   ]
  },
  {
   "cell_type": "markdown",
   "metadata": {},
   "source": [
    "## Random Integer - randint\n",
    "\n",
    "The function <code>randint</code> takes two parameters: low and high, and returns an integer between low and high (including both). Import this particular function and try it out, e.g.:\n",
    "```python\n",
    "random.randint(5, 10)\n",
    "5\n",
    "random.randint(5, 10)\n",
    "9\n",
    "```"
   ]
  },
  {
   "cell_type": "code",
   "execution_count": 30,
   "metadata": {},
   "outputs": [],
   "source": [
    "import random"
   ]
  },
  {
   "cell_type": "code",
   "execution_count": 35,
   "metadata": {},
   "outputs": [
    {
     "data": {
      "text/plain": [
       "7"
      ]
     },
     "execution_count": 35,
     "metadata": {},
     "output_type": "execute_result"
    }
   ],
   "source": [
    "random.randint(5, 10)"
   ]
  },
  {
   "cell_type": "code",
   "execution_count": 36,
   "metadata": {},
   "outputs": [
    {
     "data": {
      "text/plain": [
       "7"
      ]
     },
     "execution_count": 36,
     "metadata": {},
     "output_type": "execute_result"
    }
   ],
   "source": [
    "random.randint(5, 10)"
   ]
  },
  {
   "cell_type": "markdown",
   "metadata": {},
   "source": [
    "### Q10\n",
    "Now, write the code to generate a float between 0 and 1. "
   ]
  },
  {
   "cell_type": "code",
   "execution_count": 54,
   "metadata": {},
   "outputs": [
    {
     "data": {
      "text/plain": [
       "0.362292600702365"
      ]
     },
     "execution_count": 54,
     "metadata": {},
     "output_type": "execute_result"
    }
   ],
   "source": [
    "random.uniform(0,1)"
   ]
  },
  {
   "cell_type": "code",
   "execution_count": null,
   "metadata": {},
   "outputs": [],
   "source": []
  },
  {
   "cell_type": "markdown",
   "metadata": {},
   "source": [
    "### Q11\n",
    "\n",
    "<code>randrange(start, stop [, step])</code> returns a random integer number within a range by specifying the step increment.\n",
    "\n",
    "Try find out more about this function and test it out. \n",
    "\n",
    "Then write the code to generate 5 random integer number between 10 and 99 divisible by 5"
   ]
  },
  {
   "cell_type": "code",
   "execution_count": 51,
   "metadata": {},
   "outputs": [
    {
     "name": "stdout",
     "output_type": "stream",
     "text": [
      "70\n",
      "50\n",
      "50\n",
      "85\n",
      "10\n"
     ]
    }
   ],
   "source": [
    "for i in range(5):\n",
    "    print(random.randrange(10,99,5))"
   ]
  },
  {
   "cell_type": "code",
   "execution_count": null,
   "metadata": {},
   "outputs": [],
   "source": []
  },
  {
   "cell_type": "markdown",
   "metadata": {},
   "source": [
    "## Keyboard input\n",
    "\n",
    "Python provides a built-in function called <code>input</code> that stops the program and waits for the\n",
    "user to type something. When the user presses Return or Enter, the program resumes and\n",
    "input returns what the user typed as a <code>string</code>.\n",
    "\n",
    "Before getting input from the user, it is a good idea to print a prompt telling the user what\n",
    "to type. input can take a prompt as an argument:\n",
    "\n",
    "    input('Enter Something into this box: ')\n",
    "    \n",
    "You can also add a **\\n** (newline) so that the user input starts from the next line:\n",
    "\n",
    "    input('Enter Something into this box:\\n')\n",
    "    \n",
    "Try both versions:"
   ]
  },
  {
   "cell_type": "code",
   "execution_count": 52,
   "metadata": {},
   "outputs": [
    {
     "name": "stdout",
     "output_type": "stream",
     "text": [
      "Enter Something into this box: box\n"
     ]
    },
    {
     "data": {
      "text/plain": [
       "'box'"
      ]
     },
     "execution_count": 52,
     "metadata": {},
     "output_type": "execute_result"
    }
   ],
   "source": [
    "input('Enter Something into this box: ')"
   ]
  },
  {
   "cell_type": "code",
   "execution_count": 53,
   "metadata": {},
   "outputs": [
    {
     "name": "stdout",
     "output_type": "stream",
     "text": [
      "Enter Something into this box:\n",
      "box\n"
     ]
    },
    {
     "data": {
      "text/plain": [
       "'box'"
      ]
     },
     "execution_count": 53,
     "metadata": {},
     "output_type": "execute_result"
    }
   ],
   "source": [
    "input('Enter Something into this box:\\n')"
   ]
  },
  {
   "cell_type": "code",
   "execution_count": null,
   "metadata": {},
   "outputs": [],
   "source": []
  }
 ],
 "metadata": {
  "kernelspec": {
   "display_name": "Python 3",
   "language": "python",
   "name": "python3"
  },
  "language_info": {
   "codemirror_mode": {
    "name": "ipython",
    "version": 3
   },
   "file_extension": ".py",
   "mimetype": "text/x-python",
   "name": "python",
   "nbconvert_exporter": "python",
   "pygments_lexer": "ipython3",
   "version": "3.8.8"
  }
 },
 "nbformat": 4,
 "nbformat_minor": 2
}
