{
 "cells": [
  {
   "cell_type": "code",
   "execution_count": 1,
   "id": "54ec988c",
   "metadata": {},
   "outputs": [
    {
     "name": "stdout",
     "output_type": "stream",
     "text": [
      "Counter = 2\n"
     ]
    },
    {
     "data": {
      "text/latex": [
       "$\\displaystyle \\left[\\begin{matrix}0.259259259259259\\\\0.308148148148148\\\\0.432592592592593\\end{matrix}\\right]$"
      ],
      "text/plain": [
       "Matrix([\n",
       "[0.259259259259259],\n",
       "[0.308148148148148],\n",
       "[0.432592592592593]])"
      ]
     },
     "execution_count": 1,
     "metadata": {},
     "output_type": "execute_result"
    }
   ],
   "source": [
    "# Method using r = Lr\n",
    "\n",
    "import numpy as np\n",
    "import numpy.linalg as la\n",
    "from sympy import *\n",
    "\n",
    "tolerance = 0.005\n",
    "no_of_sites = 3\n",
    "\n",
    "#Link matrix depending on question \n",
    "L = np.array([\n",
    "    [0.2,0.2,1/3], \n",
    "    [0.4,0.2,1/3],\n",
    "    [0.4,0.6,1/3]])\n",
    "\n",
    "# r matrix equal values depending on the number od websites\n",
    "r=np.ones([no_of_sites,1])*1/no_of_sites\n",
    "\n",
    "# loop to work out r = Lr\n",
    "counter = 0\n",
    "while abs(la.norm(r-(L@r),2)) >= tolerance:\n",
    "    counter += 1\n",
    "    r=L@r\n",
    "    \n",
    "print(\"Counter = \" + str(counter))\n",
    "Matrix(r)"
   ]
  },
  {
   "cell_type": "code",
   "execution_count": 2,
   "id": "2afda199",
   "metadata": {},
   "outputs": [
    {
     "name": "stdout",
     "output_type": "stream",
     "text": [
      "E-value:\n",
      " [ 1.        +0.j        -0.13333333+0.0942809j -0.13333333-0.0942809j]\n",
      "\n",
      "\n",
      "\n",
      "\n",
      "E-vector:\n",
      " [[ 0.43592128+0.j         -0.47140452-0.33333333j -0.47140452+0.33333333j]\n",
      " [ 0.52310554+0.j         -0.23570226+0.33333333j -0.23570226-0.33333333j]\n",
      " [ 0.73234775+0.j          0.70710678+0.j          0.70710678-0.j        ]]\n"
     ]
    },
    {
     "data": {
      "text/latex": [
       "$\\displaystyle \\left[\\begin{matrix}0.257731958762887\\\\0.309278350515464\\\\0.432989690721649\\end{matrix}\\right]$"
      ],
      "text/plain": [
       "Matrix([\n",
       "[0.257731958762887],\n",
       "[0.309278350515464],\n",
       "[0.432989690721649]])"
      ]
     },
     "execution_count": 2,
     "metadata": {},
     "output_type": "execute_result"
    }
   ],
   "source": [
    "# Method using eigentheory\n",
    "\n",
    "import numpy as np\n",
    "import numpy.linalg as la\n",
    "from sympy import *\n",
    "\n",
    "#Link matrix depending on question \n",
    "L2 = np.array([\n",
    "    [0.2,0.2,1/3], \n",
    "    [0.4,0.2,1/3],\n",
    "    [0.4,0.6,1/3]])\n",
    "\n",
    "w2,v2=la.eig(L2)\n",
    "print('E-value:\\n', w2)\n",
    "print('\\n\\n\\n')\n",
    "print('E-vector:\\n', v2)\n",
    "\n",
    "#Choose eigen vector corresponding to eigenvalue 1\n",
    "Vector2 = v2[:,0]\n",
    "Matrix(Vector2)\n",
    "Divisor2 = la.norm(Vector2,1) \n",
    "Vector2 = Vector2/Divisor2\n",
    "\n",
    "Matrix(Vector2)"
   ]
  },
  {
   "cell_type": "code",
   "execution_count": 3,
   "id": "539a6f4c",
   "metadata": {},
   "outputs": [
    {
     "data": {
      "text/latex": [
       "$\\displaystyle \\left[\\begin{matrix}0.266666666666667 & 0.266666666666667 & 0.333333333333333\\\\0.366666666666667 & 0.266666666666667 & 0.333333333333333\\\\0.366666666666667 & 0.466666666666667 & 0.333333333333333\\end{matrix}\\right]$"
      ],
      "text/plain": [
       "Matrix([\n",
       "[0.266666666666667, 0.266666666666667, 0.333333333333333],\n",
       "[0.366666666666667, 0.266666666666667, 0.333333333333333],\n",
       "[0.366666666666667, 0.466666666666667, 0.333333333333333]])"
      ]
     },
     "execution_count": 3,
     "metadata": {},
     "output_type": "execute_result"
    }
   ],
   "source": [
    "# Method to find M\n",
    "\n",
    "import numpy as np\n",
    "import numpy.linalg as la\n",
    "from sympy import *\n",
    "\n",
    "L3 = np.array([\n",
    "    [0.2,0.2,1/3], \n",
    "    [0.4,0.2,1/3],\n",
    "    [0.4,0.6,1/3]])\n",
    "\n",
    "#damping factor\n",
    "d3 = 0.5\n",
    "\n",
    "# No of websites\n",
    "n3 = 3\n",
    "\n",
    "# Square matrix withh all 1's \n",
    "J3 = np.ones([n3,n3])\n",
    "\n",
    "M = (d3*L3) + (((1-d3)/n3)*J3)\n",
    "\n",
    "Matrix(M)"
   ]
  },
  {
   "cell_type": "code",
   "execution_count": 4,
   "id": "415d5ff9",
   "metadata": {},
   "outputs": [
    {
     "name": "stdout",
     "output_type": "stream",
     "text": [
      "Counter = 1\n"
     ]
    },
    {
     "data": {
      "text/latex": [
       "$\\displaystyle \\left[\\begin{matrix}0.288888888888889\\\\0.322222222222222\\\\0.388888888888889\\end{matrix}\\right]$"
      ],
      "text/plain": [
       "Matrix([\n",
       "[0.288888888888889],\n",
       "[0.322222222222222],\n",
       "[0.388888888888889]])"
      ]
     },
     "execution_count": 4,
     "metadata": {},
     "output_type": "execute_result"
    }
   ],
   "source": [
    "# r = Lr method using M as link matrix\n",
    "\n",
    "# Method using r = Lr\n",
    "\n",
    "import numpy as np\n",
    "import numpy.linalg as la\n",
    "from sympy import *\n",
    "\n",
    "tolerance4 = 0.005\n",
    "no_of_sites4 = n3\n",
    "\n",
    "# Link matrix depending on question \n",
    "L4 = M\n",
    "\n",
    "# r matrix equal values depending on the number od websites\n",
    "r4 = np.ones([no_of_sites4,1])*1/no_of_sites4\n",
    "\n",
    "# loop to work out r = Lr\n",
    "counter4 = 0\n",
    "while abs(la.norm(r4-(L4@r4),2)) >= tolerance4:\n",
    "    counter4 += 1\n",
    "    r4=L4@r4\n",
    "    \n",
    "print(\"Counter = \" + str(counter4))\n",
    "Matrix(r4)"
   ]
  },
  {
   "cell_type": "code",
   "execution_count": 5,
   "id": "94d3bfff",
   "metadata": {},
   "outputs": [
    {
     "name": "stdout",
     "output_type": "stream",
     "text": [
      "E-value:\n",
      " [ 1.        +0.j         -0.06666667+0.04714045j -0.06666667-0.04714045j]\n",
      "\n",
      "\n",
      "\n",
      "\n",
      "E-vector:\n",
      " [[ 0.50300182+0.j          0.47140452+0.33333333j  0.47140452-0.33333333j]\n",
      " [ 0.553302  +0.j          0.23570226-0.33333333j  0.23570226+0.33333333j]\n",
      " [ 0.6639624 +0.j         -0.70710678+0.j         -0.70710678-0.j        ]]\n",
      "\n",
      "\n",
      "\n",
      "\n"
     ]
    },
    {
     "data": {
      "text/latex": [
       "$\\displaystyle \\left[\\begin{matrix}0.292397660818714\\\\0.321637426900585\\\\0.385964912280702\\end{matrix}\\right]$"
      ],
      "text/plain": [
       "Matrix([\n",
       "[0.292397660818714],\n",
       "[0.321637426900585],\n",
       "[0.385964912280702]])"
      ]
     },
     "execution_count": 5,
     "metadata": {},
     "output_type": "execute_result"
    }
   ],
   "source": [
    "# method using M as link matrix eigentheory\n",
    "\n",
    "import numpy as np\n",
    "import numpy.linalg as la\n",
    "from sympy import *\n",
    "\n",
    "#Link matrix depending on question \n",
    "L5 = M\n",
    "\n",
    "w5,v5=la.eig(L5)\n",
    "print('E-value:\\n', w5)\n",
    "print('\\n\\n\\n')\n",
    "print('E-vector:\\n', v5)\n",
    "\n",
    "#Choose eigen vector corresponding to eigenvalue 1\n",
    "Vector5 = v5[:,0]\n",
    "Matrix(Vector5)\n",
    "Divisor5 = la.norm(Vector5,1) \n",
    "Vector5 = Vector5/Divisor5\n",
    "\n",
    "# Question how to noramlise M in this case\n",
    "\n",
    "Matrix(Vector5)"
   ]
  },
  {
   "cell_type": "code",
   "execution_count": null,
   "id": "f3e66051",
   "metadata": {},
   "outputs": [],
   "source": []
  }
 ],
 "metadata": {
  "kernelspec": {
   "display_name": "Python 3",
   "language": "python",
   "name": "python3"
  },
  "language_info": {
   "codemirror_mode": {
    "name": "ipython",
    "version": 3
   },
   "file_extension": ".py",
   "mimetype": "text/x-python",
   "name": "python",
   "nbconvert_exporter": "python",
   "pygments_lexer": "ipython3",
   "version": "3.8.8"
  }
 },
 "nbformat": 4,
 "nbformat_minor": 5
}
