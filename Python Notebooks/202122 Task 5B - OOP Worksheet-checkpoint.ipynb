{
 "cells": [
  {
   "cell_type": "markdown",
   "metadata": {},
   "source": [
    "# Object Oriented Programming\n",
    "\n",
    "For this exercise, create a bank account `class` that has two attributes:\n",
    "\n",
    "* owner\n",
    "* balance\n",
    "\n",
    "and two methods:\n",
    "\n",
    "* deposit\n",
    "* withdraw\n",
    "\n",
    "As an added requirement, withdrawals may not exceed the available balance.\n",
    "\n",
    "Instantiate your class, make several deposits and withdrawals, and test to make sure the account can't be overdrawn."
   ]
  },
  {
   "cell_type": "code",
   "execution_count": 32,
   "metadata": {},
   "outputs": [],
   "source": [
    "#Your class code here:\n",
    "from pprint import pprint\n",
    "class bank:\n",
    "    \n",
    "    #Variables:\n",
    "    def __init__(self,owner,balance):\n",
    "        self.owner = owner\n",
    "        self.balance = balance\n",
    "        print(\"Owner and balance created\")\n",
    "        \n",
    "    #Methods:\n",
    "    def __str__(self):\n",
    "        data = (self.owner,\" has \",self.balance,\" money \")\n",
    "        pprint(data, indent = 2, width = 100)\n",
    "        \n",
    "    def deposit(self,amount):\n",
    "        self.balance+=amount\n",
    "        \n",
    "    def withdraw(self,amount):\n",
    "        if(self.balance>=amount):\n",
    "            self.balance-=amount\n",
    "            return amount\n",
    "        else:\n",
    "            return \"Cannot Withdraw, amount overdrawn\""
   ]
  },
  {
   "cell_type": "markdown",
   "metadata": {},
   "source": [
    "### 1. Instantiate the class\n",
    "The instantiation should receive as input the name of the person and the money being put into the bank account. The call to create a new instance would look something like this:\n",
    "```python\n",
    "account1 = Account(\"Zeppi\",200)\n",
    "```"
   ]
  },
  {
   "cell_type": "code",
   "execution_count": 33,
   "metadata": {},
   "outputs": [
    {
     "name": "stdout",
     "output_type": "stream",
     "text": [
      "Owner and balance created\n"
     ]
    }
   ],
   "source": [
    "bank1 = bank(\"Uncle Rodger\",1000)"
   ]
  },
  {
   "cell_type": "markdown",
   "metadata": {},
   "source": [
    "### 2. Print the object\n",
    "Modify the class to define the\n",
    "```python\n",
    "__str__(self)\n",
    "```\n",
    "method to tell python how to prettyprint the object"
   ]
  },
  {
   "cell_type": "code",
   "execution_count": 34,
   "metadata": {},
   "outputs": [
    {
     "name": "stdout",
     "output_type": "stream",
     "text": [
      "('Uncle Rodger', ' has ', 1000, ' money ')\n"
     ]
    }
   ],
   "source": [
    "bank1.__str__()"
   ]
  },
  {
   "cell_type": "markdown",
   "metadata": {},
   "source": [
    "### 3. Print the attributes directly\n",
    "Write the code to print out the owner and balance attributes directly"
   ]
  },
  {
   "cell_type": "code",
   "execution_count": 35,
   "metadata": {},
   "outputs": [
    {
     "name": "stdout",
     "output_type": "stream",
     "text": [
      "Uncle Rodger\n"
     ]
    }
   ],
   "source": [
    "print(bank1.owner)"
   ]
  },
  {
   "cell_type": "code",
   "execution_count": 36,
   "metadata": {},
   "outputs": [
    {
     "name": "stdout",
     "output_type": "stream",
     "text": [
      "1000\n"
     ]
    }
   ],
   "source": [
    "print(bank1.balance)"
   ]
  },
  {
   "cell_type": "markdown",
   "metadata": {},
   "source": [
    "### 5. Make a series of deposits and withdrawals\n",
    "Modify the class to allow for deposits and withdrawls to be made, i.e. create methods to allow for the different transactions"
   ]
  },
  {
   "cell_type": "code",
   "execution_count": 37,
   "metadata": {},
   "outputs": [],
   "source": [
    "bank1.deposit(900)"
   ]
  },
  {
   "cell_type": "code",
   "execution_count": 38,
   "metadata": {},
   "outputs": [
    {
     "name": "stdout",
     "output_type": "stream",
     "text": [
      "('Uncle Rodger', ' has ', 1900, ' money ')\n"
     ]
    }
   ],
   "source": [
    "bank1.__str__()"
   ]
  },
  {
   "cell_type": "code",
   "execution_count": 39,
   "metadata": {},
   "outputs": [
    {
     "data": {
      "text/plain": [
       "1900"
      ]
     },
     "execution_count": 39,
     "metadata": {},
     "output_type": "execute_result"
    }
   ],
   "source": [
    "bank1.withdraw(1900)"
   ]
  },
  {
   "cell_type": "code",
   "execution_count": 40,
   "metadata": {},
   "outputs": [
    {
     "name": "stdout",
     "output_type": "stream",
     "text": [
      "('Uncle Rodger', ' has ', 0, ' money ')\n"
     ]
    }
   ],
   "source": [
    "bank1.__str__()"
   ]
  },
  {
   "cell_type": "code",
   "execution_count": 41,
   "metadata": {},
   "outputs": [
    {
     "data": {
      "text/plain": [
       "'Cannot Withdraw, amount overdrawn'"
      ]
     },
     "execution_count": 41,
     "metadata": {},
     "output_type": "execute_result"
    }
   ],
   "source": [
    "bank1.withdraw(1900)"
   ]
  },
  {
   "cell_type": "code",
   "execution_count": 42,
   "metadata": {},
   "outputs": [],
   "source": [
    "bank1.deposit(1000)"
   ]
  },
  {
   "cell_type": "code",
   "execution_count": 43,
   "metadata": {},
   "outputs": [
    {
     "name": "stdout",
     "output_type": "stream",
     "text": [
      "('Uncle Rodger', ' has ', 1000, ' money ')\n"
     ]
    }
   ],
   "source": [
    "bank1.__str__()"
   ]
  },
  {
   "cell_type": "markdown",
   "metadata": {},
   "source": [
    "### 6. Exceeding the available balance = NO!\n",
    "Modify your code so that a withdrawal exceeding the balance is not allowed and try it out"
   ]
  },
  {
   "cell_type": "code",
   "execution_count": 44,
   "metadata": {},
   "outputs": [
    {
     "data": {
      "text/plain": [
       "'Cannot Withdraw, amount overdrawn'"
      ]
     },
     "execution_count": 44,
     "metadata": {},
     "output_type": "execute_result"
    }
   ],
   "source": [
    "bank1.withdraw(1900)"
   ]
  },
  {
   "cell_type": "code",
   "execution_count": 45,
   "metadata": {},
   "outputs": [
    {
     "name": "stdout",
     "output_type": "stream",
     "text": [
      "('Uncle Rodger', ' has ', 1000, ' money ')\n"
     ]
    }
   ],
   "source": [
    "bank1.__str__()"
   ]
  },
  {
   "cell_type": "code",
   "execution_count": null,
   "metadata": {},
   "outputs": [],
   "source": []
  },
  {
   "cell_type": "code",
   "execution_count": null,
   "metadata": {},
   "outputs": [],
   "source": []
  },
  {
   "cell_type": "code",
   "execution_count": null,
   "metadata": {},
   "outputs": [],
   "source": []
  }
 ],
 "metadata": {
  "kernelspec": {
   "display_name": "Python 3",
   "language": "python",
   "name": "python3"
  },
  "language_info": {
   "codemirror_mode": {
    "name": "ipython",
    "version": 3
   },
   "file_extension": ".py",
   "mimetype": "text/x-python",
   "name": "python",
   "nbconvert_exporter": "python",
   "pygments_lexer": "ipython3",
   "version": "3.8.8"
  }
 },
 "nbformat": 4,
 "nbformat_minor": 2
}
