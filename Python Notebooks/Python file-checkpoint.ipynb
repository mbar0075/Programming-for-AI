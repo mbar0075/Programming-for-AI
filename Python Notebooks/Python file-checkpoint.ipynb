{
 "cells": [
  {
   "cell_type": "code",
   "execution_count": 1,
   "id": "349fec0b",
   "metadata": {},
   "outputs": [],
   "source": [
    "import numpy as np\n",
    "import numpy.linalg as la\n",
    "from sympy import *"
   ]
  },
  {
   "cell_type": "code",
   "execution_count": 2,
   "id": "d3355189",
   "metadata": {},
   "outputs": [
    {
     "name": "stdout",
     "output_type": "stream",
     "text": [
      "[[ 1  4  5]\n",
      " [-5  8  9]]\n"
     ]
    },
    {
     "data": {
      "text/latex": [
       "$\\displaystyle \\left[\\begin{matrix}1 & 4 & 5\\\\-5 & 8 & 9\\end{matrix}\\right]$"
      ],
      "text/plain": [
       "Matrix([\n",
       "[ 1, 4, 5],\n",
       "[-5, 8, 9]])"
      ]
     },
     "execution_count": 2,
     "metadata": {},
     "output_type": "execute_result"
    }
   ],
   "source": [
    "A = np.array([[1, 4, 5], \n",
    "    [-5, 8, 9]])\n",
    "\n",
    "print(A)\n",
    "Matrix(A)"
   ]
  },
  {
   "cell_type": "code",
   "execution_count": 3,
   "id": "4710c162",
   "metadata": {},
   "outputs": [
    {
     "name": "stdout",
     "output_type": "stream",
     "text": [
      "[[ 1  4  5]\n",
      " [-5  8  9]]\n"
     ]
    }
   ],
   "source": [
    "print(np.matrix(A))"
   ]
  },
  {
   "cell_type": "code",
   "execution_count": 9,
   "id": "59a7e327",
   "metadata": {},
   "outputs": [
    {
     "name": "stdout",
     "output_type": "stream",
     "text": [
      "[[5.]\n",
      " [5.]]\n",
      "7.0710678118654755\n"
     ]
    }
   ],
   "source": [
    "b = np.ones([2,1])*5\n",
    "print(b)\n",
    "# print(np.matrix(b))\n",
    "\n",
    "print(la.norm(b,2))"
   ]
  },
  {
   "cell_type": "code",
   "execution_count": 10,
   "id": "5852441a",
   "metadata": {},
   "outputs": [
    {
     "name": "stdout",
     "output_type": "stream",
     "text": [
      "[[-20.  60.  70.]]\n"
     ]
    }
   ],
   "source": [
    "# print(A*b)\n",
    "print(b.T@A)"
   ]
  },
  {
   "cell_type": "code",
   "execution_count": 11,
   "id": "c4cb1920",
   "metadata": {},
   "outputs": [
    {
     "name": "stdout",
     "output_type": "stream",
     "text": [
      "E-value: [ 1. -1.]\n",
      "E-vector [[ 0.70710678 -0.70710678]\n",
      " [ 0.70710678  0.70710678]]\n"
     ]
    }
   ],
   "source": [
    "a = np.array([[0, 2], \n",
    "              [2, 3]])\n",
    "\n",
    "b = np.array([[0, 1], \n",
    "              [1, 0]])\n",
    "\n",
    "w,v=la.eig(b)\n",
    "print('E-value:', w)\n",
    "print('E-vector', v)"
   ]
  },
  {
   "cell_type": "code",
   "execution_count": null,
   "id": "bda31a4c",
   "metadata": {},
   "outputs": [],
   "source": []
  }
 ],
 "metadata": {
  "kernelspec": {
   "display_name": "Python 3",
   "language": "python",
   "name": "python3"
  },
  "language_info": {
   "codemirror_mode": {
    "name": "ipython",
    "version": 3
   },
   "file_extension": ".py",
   "mimetype": "text/x-python",
   "name": "python",
   "nbconvert_exporter": "python",
   "pygments_lexer": "ipython3",
   "version": "3.8.11"
  }
 },
 "nbformat": 4,
 "nbformat_minor": 5
}
