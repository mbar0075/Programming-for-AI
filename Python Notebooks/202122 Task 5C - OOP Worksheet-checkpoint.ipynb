{
 "cells": [
  {
   "cell_type": "markdown",
   "metadata": {},
   "source": [
    "## Question 1: \n",
    "Create a Vehicle class without any variables and methods"
   ]
  },
  {
   "cell_type": "code",
   "execution_count": 75,
   "metadata": {},
   "outputs": [],
   "source": [
    "class Vehicles:\n",
    "    pass"
   ]
  },
  {
   "cell_type": "markdown",
   "metadata": {},
   "source": [
    "## Question 2: \n",
    "Create a Vehicle class with max_speed and mileage instance attributes"
   ]
  },
  {
   "cell_type": "code",
   "execution_count": 76,
   "metadata": {},
   "outputs": [],
   "source": [
    "class Vehicles:\n",
    "    def __init__(self,max_speed,mileage):\n",
    "        self.max_speed = max_speed\n",
    "        self.mileage = mileage"
   ]
  },
  {
   "cell_type": "markdown",
   "metadata": {},
   "source": [
    "## Question 3: \n",
    "Create a class Bus that will inherit all of the variables and methods of the Vehicle class\n",
    "\n",
    "e.g. of expected output: \n",
    "    \n",
    "    Vehicle Name: School Volvo Speed: 180 Mileage: 12"
   ]
  },
  {
   "cell_type": "code",
   "execution_count": 77,
   "metadata": {},
   "outputs": [],
   "source": [
    "class Bus(Vehicles):\n",
    "    def __init__(self,name,max_speed,mileage):\n",
    "        Vehicles.__init__(self,max_speed,mileage)#Vehicles class\n",
    "        self.name=name\n",
    "        \n",
    "    def pprint(self): \n",
    "        print(\"Vehicle Name: \",self.name,\" Speed: \",self.max_speed,\" Mileage: \",self.mileage)"
   ]
  },
  {
   "cell_type": "code",
   "execution_count": 78,
   "metadata": {},
   "outputs": [],
   "source": [
    "b=Bus(\"School Volvo\",180,12)"
   ]
  },
  {
   "cell_type": "code",
   "execution_count": 79,
   "metadata": {},
   "outputs": [
    {
     "name": "stdout",
     "output_type": "stream",
     "text": [
      "Vehicle Name:  School Volvo  Speed:  180  Mileage:  12\n"
     ]
    }
   ],
   "source": [
    "b.pprint()"
   ]
  },
  {
   "cell_type": "markdown",
   "metadata": {},
   "source": [
    "## Question 4: \n",
    "Introduce the method `seating_capacity` to the `vehicle` class that returns a string describing the seating capacity of the vehicle."
   ]
  },
  {
   "cell_type": "code",
   "execution_count": 3,
   "metadata": {},
   "outputs": [],
   "source": [
    "class Vehicles:\n",
    "    def __init__(self,max_speed,mileage,seating):\n",
    "        self.max_speed = max_speed\n",
    "        self.mileage = mileage\n",
    "        self.seating=seating\n",
    "    \n",
    "    def seating_capacity(self):\n",
    "        var= \"The vehicle has : \"+ str(self.seating) +\" seats\"\n",
    "        return var"
   ]
  },
  {
   "cell_type": "code",
   "execution_count": 4,
   "metadata": {},
   "outputs": [],
   "source": [
    "v=Vehicles(180,12,500)"
   ]
  },
  {
   "cell_type": "code",
   "execution_count": 5,
   "metadata": {},
   "outputs": [
    {
     "name": "stdout",
     "output_type": "stream",
     "text": [
      "The vehicle has : 500 seats\n"
     ]
    }
   ],
   "source": [
    "print(v.seating_capacity())"
   ]
  },
  {
   "cell_type": "markdown",
   "metadata": {},
   "source": [
    "## Question 5: Class Inheritance\n",
    "\n",
    "Now add the method `seating_capacity` to the `bus` class that inherits from the Vehicle class. You will need to **override** the `seating_capacity` method from the `bus` class."
   ]
  },
  {
   "cell_type": "code",
   "execution_count": 6,
   "metadata": {},
   "outputs": [],
   "source": [
    "class Bus(Vehicles):\n",
    "    def __init__(self,name,max_speed,mileage,seating):\n",
    "        Vehicles.__init__(self,max_speed,mileage,seating)#Vehicles class\n",
    "        self.name=name\n",
    "        \n",
    "    def seating_capacity(self):\n",
    "        #print(\"Method overriding\")\n",
    "        var= \"The vehicle has : \"+ str(self.seating) +\" seats\"\n",
    "        return var \n",
    "        \n",
    "    def pprint(self): \n",
    "        print(\"Vehicle Name: \",self.name,\" Speed: \",self.max_speed,\" Mileage: \",self.mileage)"
   ]
  },
  {
   "cell_type": "code",
   "execution_count": 7,
   "metadata": {},
   "outputs": [],
   "source": [
    "b=Bus(\"School Volvo\",180,12,500)"
   ]
  },
  {
   "cell_type": "code",
   "execution_count": 8,
   "metadata": {},
   "outputs": [
    {
     "name": "stdout",
     "output_type": "stream",
     "text": [
      "The vehicle has : 500 seats\n"
     ]
    }
   ],
   "source": [
    "print(b.seating_capacity())"
   ]
  },
  {
   "cell_type": "markdown",
   "metadata": {},
   "source": [
    "## Question 6: Default values\n",
    "\n",
    "Modify the `vehicle` class such that all instances will have an attribute \"color” with a default value white. \n",
    "Create two classes that inherit everything as is from the class `vehicle`: `bus` and `car`. Test this default attribute with the following code:\n",
    "\n",
    "    School_bus = Bus(\"School Volvo\", 180, 12)\n",
    "    print(School_bus.color, School_bus.name, \"Speed:\", School_bus.max_speed, \"Mileage:\", School_bus.mileage)\n",
    "\n",
    "    car = Car(\"Audi Q5\", 240, 18)\n",
    "    print(car.color, car.name, \"Speed:\", car.max_speed, \"Mileage:\", car.mileage)"
   ]
  },
  {
   "cell_type": "code",
   "execution_count": 86,
   "metadata": {},
   "outputs": [],
   "source": [
    "class Vehicles:\n",
    "    color=\"white\"\n",
    "    def __init__(self,max_speed,mileage):\n",
    "        self.max_speed = max_speed\n",
    "        self.mileage = mileage\n"
   ]
  },
  {
   "cell_type": "code",
   "execution_count": 87,
   "metadata": {},
   "outputs": [],
   "source": [
    "class Bus(Vehicles):\n",
    "    def __init__(self,name,max_speed,mileage):\n",
    "        Vehicles.__init__(self,max_speed,mileage)#Vehicles class\n",
    "        self.name=name\n",
    "        "
   ]
  },
  {
   "cell_type": "code",
   "execution_count": 88,
   "metadata": {},
   "outputs": [
    {
     "name": "stdout",
     "output_type": "stream",
     "text": [
      "white School Volvo Speed: 180 Mileage: 12\n"
     ]
    }
   ],
   "source": [
    "School_bus = Bus(\"School Volvo\", 180, 12)\n",
    "print(School_bus.color, School_bus.name, \"Speed:\", School_bus.max_speed, \"Mileage:\", School_bus.mileage)"
   ]
  },
  {
   "cell_type": "code",
   "execution_count": 89,
   "metadata": {},
   "outputs": [],
   "source": [
    "class Car(Vehicles):\n",
    "    def __init__(self,name,max_speed,mileage):\n",
    "        Vehicles.__init__(self,max_speed,mileage)#Vehicles class\n",
    "        self.name=name\n",
    "        "
   ]
  },
  {
   "cell_type": "code",
   "execution_count": 90,
   "metadata": {},
   "outputs": [
    {
     "name": "stdout",
     "output_type": "stream",
     "text": [
      "white Audi Q5 Speed: 240 Mileage: 18\n"
     ]
    }
   ],
   "source": [
    "car = Car(\"Audi Q5\", 240, 18)\n",
    "print(car.color, car.name, \"Speed:\", car.max_speed, \"Mileage:\", car.mileage)"
   ]
  },
  {
   "cell_type": "markdown",
   "metadata": {},
   "source": [
    "## Sidenote:\n",
    "\n",
    "Variables created in `.__init__()` are called **instance variables**. An instance variable’s value is specific to a particular instance of the class. For example, in the solution, All Vehicle objects have a name and a max_speed, but the name and max_speed variables’ values will vary depending on the Vehicle instance.\n",
    "\n",
    "On the other hand, **class attributes** are attributes that have the same value for ***all*** class instances. You can define a class attribute by assigning a value to a variable name outside of `.__init__()`."
   ]
  },
  {
   "cell_type": "markdown",
   "metadata": {},
   "source": [
    "## Question 7: Class Inheritance\n",
    "\n",
    "Create a `Bus` child class that inherits from the `Vehicle` class. The default fare charge of any vehicle is **seating capacity * 100**. However, if the Vehicle is a Bus instance, we need to add an extra **10%** on full fare as a maintenance charge. So total fare for bus instance will become the **final amount = total fare + 10% of the total fare**.\n",
    "\n",
    "Note: The bus seating capacity is 50. So the final fare amount should be 5550. You need to override the fare() method of a `Vehicle` class in `Bus` class."
   ]
  },
  {
   "cell_type": "code",
   "execution_count": 9,
   "metadata": {},
   "outputs": [],
   "source": [
    "class Vehicles:\n",
    "    def __init__(self,max_speed,mileage,seating):\n",
    "        self.max_speed = max_speed\n",
    "        self.mileage = mileage\n",
    "        self.seating = seating\n",
    "        \n",
    "    def seating_capacity(self):\n",
    "        var= \"The vehicle has : \"+ str(self.seating) +\" seats\"\n",
    "        return var\n",
    "    \n",
    "    def fare(self):    \n",
    "        fare=self.seating*100\n",
    "        return fare\n",
    "    "
   ]
  },
  {
   "cell_type": "code",
   "execution_count": 10,
   "metadata": {},
   "outputs": [],
   "source": [
    "class Bus(Vehicles):\n",
    "    def __init__(self,name,max_speed,mileage,seating):\n",
    "        Vehicles.__init__(self,max_speed,mileage,seating)\n",
    "        self.name=name\n",
    "    \n",
    "    def seating_capacity(self):\n",
    "        #print(\"Method overriding\")\n",
    "        var= \"The vehicle has : \"+ str(self.seating) +\" seats\"\n",
    "        return var\n",
    "    \n",
    "    def fare(self):    \n",
    "        #print(\"Method overriding\")\n",
    "        fare=Vehicles.fare(self)\n",
    "        fare+=(fare*0.1)\n",
    "        return fare"
   ]
  },
  {
   "cell_type": "code",
   "execution_count": 13,
   "metadata": {},
   "outputs": [],
   "source": [
    "b=Bus(\"School Volvo\",180,12,50)"
   ]
  },
  {
   "cell_type": "code",
   "execution_count": 14,
   "metadata": {},
   "outputs": [
    {
     "data": {
      "text/plain": [
       "5500.0"
      ]
     },
     "execution_count": 14,
     "metadata": {},
     "output_type": "execute_result"
    }
   ],
   "source": [
    "b.fare()"
   ]
  },
  {
   "cell_type": "code",
   "execution_count": 16,
   "metadata": {},
   "outputs": [],
   "source": [
    "b2=Vehicles(180,12,50)"
   ]
  },
  {
   "cell_type": "code",
   "execution_count": 17,
   "metadata": {},
   "outputs": [
    {
     "data": {
      "text/plain": [
       "5000"
      ]
     },
     "execution_count": 17,
     "metadata": {},
     "output_type": "execute_result"
    }
   ],
   "source": [
    "b2.fare()"
   ]
  },
  {
   "cell_type": "markdown",
   "metadata": {},
   "source": [
    "## Question 8: \n",
    "Determine which class a given `Bus` object belongs to (Check type of a object)"
   ]
  },
  {
   "cell_type": "code",
   "execution_count": 95,
   "metadata": {},
   "outputs": [
    {
     "data": {
      "text/plain": [
       "__main__.Bus"
      ]
     },
     "execution_count": 95,
     "metadata": {},
     "output_type": "execute_result"
    }
   ],
   "source": [
    "type(b)# Object of type: __main__.Bus"
   ]
  },
  {
   "cell_type": "markdown",
   "metadata": {},
   "source": [
    "## Question 9: \n",
    "Determine if School_bus is also an instance of the Vehicle class (use Python's built-in function `isinstance()` which takes two parameters - the child and the parent."
   ]
  },
  {
   "cell_type": "code",
   "execution_count": 96,
   "metadata": {},
   "outputs": [],
   "source": [
    "class Vehicle:\n",
    "    color=\"white\"\n",
    "    def __init__(self,max_speed,mileage):\n",
    "        self.max_speed = max_speed\n",
    "        self.mileage = mileage\n"
   ]
  },
  {
   "cell_type": "code",
   "execution_count": 97,
   "metadata": {},
   "outputs": [],
   "source": [
    "class Bus(Vehicle):\n",
    "    def __init__(self,name,max_speed,mileage):\n",
    "        Vehicle.__init__(self,max_speed,mileage)#Vehicle class\n",
    "        self.name=name\n",
    "        "
   ]
  },
  {
   "cell_type": "code",
   "execution_count": 98,
   "metadata": {},
   "outputs": [],
   "source": [
    "School_bus = Bus(\"School Volvo\", 180, 12)"
   ]
  },
  {
   "cell_type": "code",
   "execution_count": 100,
   "metadata": {},
   "outputs": [
    {
     "data": {
      "text/plain": [
       "True"
      ]
     },
     "execution_count": 100,
     "metadata": {},
     "output_type": "execute_result"
    }
   ],
   "source": [
    "isinstance(School_bus,Vehicle)# Output was True, School_bus is an instance of Vehicle Class"
   ]
  },
  {
   "cell_type": "code",
   "execution_count": null,
   "metadata": {},
   "outputs": [],
   "source": []
  }
 ],
 "metadata": {
  "kernelspec": {
   "display_name": "Python 3",
   "language": "python",
   "name": "python3"
  },
  "language_info": {
   "codemirror_mode": {
    "name": "ipython",
    "version": 3
   },
   "file_extension": ".py",
   "mimetype": "text/x-python",
   "name": "python",
   "nbconvert_exporter": "python",
   "pygments_lexer": "ipython3",
   "version": "3.8.8"
  }
 },
 "nbformat": 4,
 "nbformat_minor": 4
}
