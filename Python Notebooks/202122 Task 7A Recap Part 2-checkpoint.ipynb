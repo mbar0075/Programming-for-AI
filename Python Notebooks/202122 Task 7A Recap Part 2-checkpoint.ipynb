{
 "cells": [
  {
   "cell_type": "markdown",
   "metadata": {},
   "source": [
    "# Guessing Game Challenge\n",
    "\n",
    "Let's use `while` loops to create a guessing game.\n",
    "\n",
    "The Challenge:\n",
    "\n",
    "Write a program that picks a random integer from 1 to 100, and has players guess the number. The rules are:\n",
    "\n",
    "1. If a player's guess is less than 1 or greater than 100, say \"OUT OF BOUNDS\"\n",
    "2. On a player's first turn, if their guess is\n",
    " * within 10 of the number, return \"WARM!\"\n",
    " * further than 10 away from the number, return \"COLD!\"\n",
    "3. On all subsequent turns, if a guess is \n",
    " * closer to the number than the previous guess return \"WARMER!\"\n",
    " * farther from the number than the previous guess, return \"COLDER!\"\n",
    "4. When the player's guess equals the number, tell them they've guessed correctly *and* how many guesses it took!\n",
    "\n",
    "You can try this from scratch, or follow the steps outlined below. A separate Solution notebook has been provided. Good luck!\n"
   ]
  },
  {
   "cell_type": "markdown",
   "metadata": {},
   "source": [
    "#### First, pick a random integer from 1 to 100 using the random module and assign it to a variable\n",
    "\n",
    "Note: `random.randint(a,b)` returns a random integer in range `[a, b]`, including both end points."
   ]
  },
  {
   "cell_type": "code",
   "execution_count": 15,
   "metadata": {},
   "outputs": [],
   "source": [
    "import random\n",
    "\n",
    "numbers = random.randint(1,100)"
   ]
  },
  {
   "cell_type": "markdown",
   "metadata": {},
   "source": [
    "#### Next, print an introduction to the game and explain the rules"
   ]
  },
  {
   "cell_type": "code",
   "execution_count": 16,
   "metadata": {},
   "outputs": [
    {
     "name": "stdout",
     "output_type": "stream",
     "text": [
      "The Challenge:\n",
      "Guess a random number from 1 to 100\n",
      "If your guess is more than 10 away from my number, then you are COLD\n",
      "If your guess is within 10 of my number, then you are WARM\n",
      "If your guess is farther than your most recent guess, then you are getting COLDER\n",
      "If your guess is closer than your most recent guess, then you are getting WARMER\n",
      "If your guess is correct than you have guessed correctly, and the number of guesses will be displayed\n"
     ]
    }
   ],
   "source": [
    "print(\"The Challenge:\\nGuess a random number from 1 to 100\")\n",
    "print(\"If your guess is more than 10 away from my number, then you are COLD\")\n",
    "print(\"If your guess is within 10 of my number, then you are WARM\")\n",
    "print(\"If your guess is farther than your most recent guess, then you are getting COLDER\")\n",
    "print(\"If your guess is closer than your most recent guess, then you are getting WARMER\")\n",
    "print(\"If your guess is correct than you have guessed correctly, and the number of guesses will be displayed\")"
   ]
  },
  {
   "cell_type": "markdown",
   "metadata": {},
   "source": [
    "#### Create a list to store guesses\n",
    "\n",
    "Hint: zero is a good placeholder value. It's useful because it evaluates to \"False\""
   ]
  },
  {
   "cell_type": "code",
   "execution_count": 17,
   "metadata": {},
   "outputs": [],
   "source": [
    "userguesses = [0]"
   ]
  },
  {
   "cell_type": "markdown",
   "metadata": {},
   "source": [
    "#### Write a `while` loop that asks for a valid guess. Test it a few times to make sure it works."
   ]
  },
  {
   "cell_type": "code",
   "execution_count": 18,
   "metadata": {},
   "outputs": [
    {
     "name": "stdout",
     "output_type": "stream",
     "text": [
      "Guess a number between 1 and 100\n",
      "7\n",
      "Valid element\n"
     ]
    }
   ],
   "source": [
    "while True:\n",
    "    #user input:\n",
    "    userinput = int(input(\"Guess a number between 1 and 100\\n\"))\n",
    "        \n",
    "    #Checking if number is valid:\n",
    "    if userinput < 1 or userinput > 100:\n",
    "        print(\"OUT OF BOUNDS! Please Re-enter:\")\n",
    "        continue\n",
    "    else:\n",
    "        print(\"Valid element\")\n",
    "        break\n"
   ]
  },
  {
   "cell_type": "markdown",
   "metadata": {},
   "source": [
    "#### Write a `while` loop that compares the player's guess to our number. If the player guesses correctly, break from the loop. Otherwise, tell the player if they're warmer or colder, and continue asking for guesses.\n",
    "\n",
    "Some hints:\n",
    "* it may help to sketch out all possible combinations on paper first!\n",
    "* you can use the `abs()` function to find the positive difference between two numbers\n",
    "* if you append all new guesses to the list, then the previous guess is given as `guesses[-2]`"
   ]
  },
  {
   "cell_type": "code",
   "execution_count": 23,
   "metadata": {},
   "outputs": [
    {
     "name": "stdout",
     "output_type": "stream",
     "text": [
      "The Challenge:\n",
      "Guess a random number from 1 to 100\n",
      "If your guess is more than 10 away from my number, then you are COLD\n",
      "If your guess is within 10 of my number, then you are WARM\n",
      "If your guess is farther than your most recent guess, then you are getting COLDER\n",
      "If your guess is closer than your most recent guess, then you are getting WARMER\n",
      "If your guess is correct than you have guessed correctly, and the number of guesses will be displayed\n",
      "Guess a number between 1 and 100\n",
      "1\n",
      "Getting cold\n",
      "Guess a number between 1 and 100\n",
      "2\n",
      "Your guess is getting warmer to the number than the previous guess\n",
      "Guess a number between 1 and 100\n",
      "4\n",
      "Your guess is getting warmer to the number than the previous guess\n",
      "Guess a number between 1 and 100\n",
      "60\n",
      "Your guess is getting colder to the number than the previous guess\n",
      "Guess a number between 1 and 100\n",
      "50\n",
      "Your guess is getting warmer to the number than the previous guess\n",
      "Guess a number between 1 and 100\n",
      "40\n",
      "Your guess is getting warmer to the number than the previous guess\n",
      "Guess a number between 1 and 100\n",
      "44\n",
      "Your guess is getting colder to the number than the previous guess\n",
      "Guess a number between 1 and 100\n",
      "30\n",
      "Your guess is getting warmer to the number than the previous guess\n",
      "Guess a number between 1 and 100\n",
      "20\n",
      "Your guess is getting warmer to the number than the previous guess\n",
      "Guess a number between 1 and 100\n",
      "10\n",
      "Your guess is getting colder to the number than the previous guess\n",
      "Guess a number between 1 and 100\n",
      "15\n",
      "Your guess is getting warmer to the number than the previous guess\n",
      "Guess a number between 1 and 100\n",
      "17\n",
      "Your guess is getting warmer to the number than the previous guess\n",
      "Guess a number between 1 and 100\n",
      "18\n",
      "Your guess is getting warmer to the number than the previous guess\n",
      "Guess a number between 1 and 100\n",
      "19\n",
      "Your guess is getting warmer to the number than the previous guess\n",
      "Guess a number between 1 and 100\n",
      "13\n",
      "Your guess is getting colder to the number than the previous guess\n",
      "Guess a number between 1 and 100\n",
      "21\n",
      "Your guess is getting warmer to the number than the previous guess\n",
      "Guess a number between 1 and 100\n",
      "22\n",
      "Your guess is getting warmer to the number than the previous guess\n",
      "Guess a number between 1 and 100\n",
      "25\n",
      "Your guess is getting warmer to the number than the previous guess\n",
      "Guess a number between 1 and 100\n",
      "26\n",
      "Your guess is getting colder to the number than the previous guess\n",
      "Guess a number between 1 and 100\n",
      "24\n",
      "You have successfully guessed the number in  20  guesses\n"
     ]
    }
   ],
   "source": [
    "import random\n",
    "numbers = random.randint(1,100)\n",
    "userguesses = [0]\n",
    "\n",
    "print(\"The Challenge:\\nGuess a random number from 1 to 100\")\n",
    "print(\"If your guess is more than 10 away from my number, then you are COLD\")\n",
    "print(\"If your guess is within 10 of my number, then you are WARM\")\n",
    "print(\"If your guess is farther than your most recent guess, then you are getting COLDER\")\n",
    "print(\"If your guess is closer than your most recent guess, then you are getting WARMER\")\n",
    "print(\"If your guess is correct than you have guessed correctly, and the number of guesses will be displayed\")\n",
    "\n",
    "\n",
    "while True:\n",
    "    userinput = int(input(\"Guess a number between 1 and 100\\n\"))\n",
    "        \n",
    "    #Checking if number is valid:\n",
    "    if userinput < 1 or userinput > 100:\n",
    "        print(\"OUT OF BOUNDS! Please Re-enter:\")\n",
    "        continue\n",
    "    \n",
    "    #If user guessed the number correctly\n",
    "    if userinput == numbers:\n",
    "        print(\"You have successfully guessed the number in \",len(userguesses),\" guesses\")\n",
    "        break     \n",
    "        \n",
    "    #If guess is incorrect, add userinput to the list userguesses\n",
    "    userguesses.append(userinput)    \n",
    "    \n",
    "    \n",
    "    if userguesses[-2]:  \n",
    "        #abs function to give an absolute value, a value which isn't negative\n",
    "        if abs(numbers-userinput) < abs(numbers-userguesses[-2]):\n",
    "            print(\"Your guess is getting warmer to the number than the previous guess\")\n",
    "        else:\n",
    "            print(\"Your guess is getting colder to the number than the previous guess\")\n",
    "   \n",
    "    else:\n",
    "        if abs(numbers-userinput) <= 10:\n",
    "            print(\"Getting warm\")\n",
    "        else:\n",
    "            print(\"Getting cold\")     \n",
    "        \n",
    "        \n"
   ]
  },
  {
   "cell_type": "markdown",
   "metadata": {},
   "source": [
    "# That's it! :) "
   ]
  }
 ],
 "metadata": {
  "kernelspec": {
   "display_name": "Python 3",
   "language": "python",
   "name": "python3"
  },
  "language_info": {
   "codemirror_mode": {
    "name": "ipython",
    "version": 3
   },
   "file_extension": ".py",
   "mimetype": "text/x-python",
   "name": "python",
   "nbconvert_exporter": "python",
   "pygments_lexer": "ipython3",
   "version": "3.8.8"
  }
 },
 "nbformat": 4,
 "nbformat_minor": 2
}
